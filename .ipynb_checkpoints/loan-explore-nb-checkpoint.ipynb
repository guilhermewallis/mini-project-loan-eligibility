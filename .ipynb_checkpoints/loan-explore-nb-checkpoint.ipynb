{
 "cells": [
  {
   "cell_type": "markdown",
   "id": "95d352c7",
   "metadata": {},
   "source": [
    "# Mini Project - Loan Eligibility\n",
    "## Data Description"
   ]
  },
  {
   "cell_type": "markdown",
   "id": "c9161842",
   "metadata": {},
   "source": [
    "#### This dataset contains applicant data from a home loan company. It contains multiple kinds of information such as:\n",
    "* Personal data - gender, marital status, education\n",
    "* Finanacial data - income, employment type, credit history, etc\n",
    "* Loan data - loan status (eligibility), amount, term, property area\n",
    "#### It is a small dataset containing 614 entries over 13 columns, source file \"Loan_Data.csv\""
   ]
  },
  {
   "cell_type": "markdown",
   "id": "7b836baa",
   "metadata": {},
   "source": [
    "## Goal"
   ]
  },
  {
   "cell_type": "markdown",
   "id": "d026166c",
   "metadata": {},
   "source": [
    "#### The goal of this study is to automate the loan eligibility process based on customer details provided\n",
    "* This model will have as a target the Loan Status column on the dataset, which contains the information of whether or not the existing applicants were eligible for the loan.\n",
    "* To achieve this, a classification model will be built taking in the several different features contained in the dataset."
   ]
  },
  {
   "cell_type": "code",
   "execution_count": 58,
   "id": "84f38ce0",
   "metadata": {},
   "outputs": [],
   "source": [
    "#! pip install imblearn\n",
    "#! pip install --upgrade scikit-learn"
   ]
  },
  {
   "cell_type": "code",
   "execution_count": 59,
   "id": "21813417",
   "metadata": {},
   "outputs": [],
   "source": [
    "import pandas as pd\n",
    "import numpy as np\n",
    "from statistics import mean\n",
    "from scipy import stats\n",
    "\n",
    "import seaborn as sns\n",
    "import matplotlib.pyplot as plt\n",
    "\n",
    "from sklearn.metrics import confusion_matrix\n",
    "from sklearn.metrics import ConfusionMatrixDisplay\n",
    "from sklearn.model_selection import train_test_split\n",
    "\n",
    "from sklearn.preprocessing import MinMaxScaler\n",
    "from sklearn.preprocessing import StandardScaler\n",
    "\n",
    "from imblearn.over_sampling import RandomOverSampler\n",
    "from imblearn.over_sampling import SMOTE\n",
    "\n",
    "from sklearn.linear_model import LogisticRegression\n",
    "from sklearn.model_selection import cross_validate\n",
    "from sklearn.model_selection import RepeatedStratifiedKFold\n",
    "from imblearn.ensemble import BalancedRandomForestClassifier\n",
    "\n",
    "import warnings\n",
    "warnings.filterwarnings('default')"
   ]
  },
  {
   "cell_type": "code",
   "execution_count": 60,
   "id": "7bdf03cc",
   "metadata": {},
   "outputs": [],
   "source": [
    "def print_full(x, n):\n",
    "    pd.set_option('display.min_rows', n)\n",
    "    display(x)\n",
    "    pd.reset_option('display.min_rows')"
   ]
  },
  {
   "cell_type": "code",
   "execution_count": 61,
   "id": "5db1e4cc",
   "metadata": {},
   "outputs": [],
   "source": [
    "df = pd.read_csv('../(source)/loan/Loan_Data.csv')"
   ]
  },
  {
   "cell_type": "code",
   "execution_count": 62,
   "id": "0472f272",
   "metadata": {},
   "outputs": [
    {
     "data": {
      "text/plain": [
       "array(['loan_id', 'gender', 'married', 'dependents', 'education',\n",
       "       'self_employed', 'applicantincome', 'coapplicantincome',\n",
       "       'loanamount', 'loan_amount_term', 'credit_history',\n",
       "       'property_area', 'loan_status'], dtype=object)"
      ]
     },
     "execution_count": 62,
     "metadata": {},
     "output_type": "execute_result"
    }
   ],
   "source": [
    "df.columns = [col.lower().replace(' ', '_') for col in df.columns]\n",
    "df.columns = [col.lower().replace('/', '_') for col in df.columns]\n",
    "df.columns.values"
   ]
  },
  {
   "cell_type": "code",
   "execution_count": 63,
   "id": "e8e81adb",
   "metadata": {
    "scrolled": true
   },
   "outputs": [
    {
     "data": {
      "text/html": [
       "<div>\n",
       "<style scoped>\n",
       "    .dataframe tbody tr th:only-of-type {\n",
       "        vertical-align: middle;\n",
       "    }\n",
       "\n",
       "    .dataframe tbody tr th {\n",
       "        vertical-align: top;\n",
       "    }\n",
       "\n",
       "    .dataframe thead th {\n",
       "        text-align: right;\n",
       "    }\n",
       "</style>\n",
       "<table border=\"1\" class=\"dataframe\">\n",
       "  <thead>\n",
       "    <tr style=\"text-align: right;\">\n",
       "      <th></th>\n",
       "      <th>loan_id</th>\n",
       "      <th>gender</th>\n",
       "      <th>married</th>\n",
       "      <th>dependents</th>\n",
       "      <th>education</th>\n",
       "      <th>self_employed</th>\n",
       "      <th>applicantincome</th>\n",
       "      <th>coapplicantincome</th>\n",
       "      <th>loanamount</th>\n",
       "      <th>loan_amount_term</th>\n",
       "      <th>credit_history</th>\n",
       "      <th>property_area</th>\n",
       "      <th>loan_status</th>\n",
       "    </tr>\n",
       "  </thead>\n",
       "  <tbody>\n",
       "    <tr>\n",
       "      <th>0</th>\n",
       "      <td>LP001002</td>\n",
       "      <td>Male</td>\n",
       "      <td>No</td>\n",
       "      <td>0</td>\n",
       "      <td>Graduate</td>\n",
       "      <td>No</td>\n",
       "      <td>5849</td>\n",
       "      <td>0.0</td>\n",
       "      <td>NaN</td>\n",
       "      <td>360.0</td>\n",
       "      <td>1.0</td>\n",
       "      <td>Urban</td>\n",
       "      <td>Y</td>\n",
       "    </tr>\n",
       "    <tr>\n",
       "      <th>1</th>\n",
       "      <td>LP001003</td>\n",
       "      <td>Male</td>\n",
       "      <td>Yes</td>\n",
       "      <td>1</td>\n",
       "      <td>Graduate</td>\n",
       "      <td>No</td>\n",
       "      <td>4583</td>\n",
       "      <td>1508.0</td>\n",
       "      <td>128.0</td>\n",
       "      <td>360.0</td>\n",
       "      <td>1.0</td>\n",
       "      <td>Rural</td>\n",
       "      <td>N</td>\n",
       "    </tr>\n",
       "    <tr>\n",
       "      <th>2</th>\n",
       "      <td>LP001005</td>\n",
       "      <td>Male</td>\n",
       "      <td>Yes</td>\n",
       "      <td>0</td>\n",
       "      <td>Graduate</td>\n",
       "      <td>Yes</td>\n",
       "      <td>3000</td>\n",
       "      <td>0.0</td>\n",
       "      <td>66.0</td>\n",
       "      <td>360.0</td>\n",
       "      <td>1.0</td>\n",
       "      <td>Urban</td>\n",
       "      <td>Y</td>\n",
       "    </tr>\n",
       "    <tr>\n",
       "      <th>3</th>\n",
       "      <td>LP001006</td>\n",
       "      <td>Male</td>\n",
       "      <td>Yes</td>\n",
       "      <td>0</td>\n",
       "      <td>Not Graduate</td>\n",
       "      <td>No</td>\n",
       "      <td>2583</td>\n",
       "      <td>2358.0</td>\n",
       "      <td>120.0</td>\n",
       "      <td>360.0</td>\n",
       "      <td>1.0</td>\n",
       "      <td>Urban</td>\n",
       "      <td>Y</td>\n",
       "    </tr>\n",
       "    <tr>\n",
       "      <th>4</th>\n",
       "      <td>LP001008</td>\n",
       "      <td>Male</td>\n",
       "      <td>No</td>\n",
       "      <td>0</td>\n",
       "      <td>Graduate</td>\n",
       "      <td>No</td>\n",
       "      <td>6000</td>\n",
       "      <td>0.0</td>\n",
       "      <td>141.0</td>\n",
       "      <td>360.0</td>\n",
       "      <td>1.0</td>\n",
       "      <td>Urban</td>\n",
       "      <td>Y</td>\n",
       "    </tr>\n",
       "    <tr>\n",
       "      <th>...</th>\n",
       "      <td>...</td>\n",
       "      <td>...</td>\n",
       "      <td>...</td>\n",
       "      <td>...</td>\n",
       "      <td>...</td>\n",
       "      <td>...</td>\n",
       "      <td>...</td>\n",
       "      <td>...</td>\n",
       "      <td>...</td>\n",
       "      <td>...</td>\n",
       "      <td>...</td>\n",
       "      <td>...</td>\n",
       "      <td>...</td>\n",
       "    </tr>\n",
       "    <tr>\n",
       "      <th>609</th>\n",
       "      <td>LP002978</td>\n",
       "      <td>Female</td>\n",
       "      <td>No</td>\n",
       "      <td>0</td>\n",
       "      <td>Graduate</td>\n",
       "      <td>No</td>\n",
       "      <td>2900</td>\n",
       "      <td>0.0</td>\n",
       "      <td>71.0</td>\n",
       "      <td>360.0</td>\n",
       "      <td>1.0</td>\n",
       "      <td>Rural</td>\n",
       "      <td>Y</td>\n",
       "    </tr>\n",
       "    <tr>\n",
       "      <th>610</th>\n",
       "      <td>LP002979</td>\n",
       "      <td>Male</td>\n",
       "      <td>Yes</td>\n",
       "      <td>3+</td>\n",
       "      <td>Graduate</td>\n",
       "      <td>No</td>\n",
       "      <td>4106</td>\n",
       "      <td>0.0</td>\n",
       "      <td>40.0</td>\n",
       "      <td>180.0</td>\n",
       "      <td>1.0</td>\n",
       "      <td>Rural</td>\n",
       "      <td>Y</td>\n",
       "    </tr>\n",
       "    <tr>\n",
       "      <th>611</th>\n",
       "      <td>LP002983</td>\n",
       "      <td>Male</td>\n",
       "      <td>Yes</td>\n",
       "      <td>1</td>\n",
       "      <td>Graduate</td>\n",
       "      <td>No</td>\n",
       "      <td>8072</td>\n",
       "      <td>240.0</td>\n",
       "      <td>253.0</td>\n",
       "      <td>360.0</td>\n",
       "      <td>1.0</td>\n",
       "      <td>Urban</td>\n",
       "      <td>Y</td>\n",
       "    </tr>\n",
       "    <tr>\n",
       "      <th>612</th>\n",
       "      <td>LP002984</td>\n",
       "      <td>Male</td>\n",
       "      <td>Yes</td>\n",
       "      <td>2</td>\n",
       "      <td>Graduate</td>\n",
       "      <td>No</td>\n",
       "      <td>7583</td>\n",
       "      <td>0.0</td>\n",
       "      <td>187.0</td>\n",
       "      <td>360.0</td>\n",
       "      <td>1.0</td>\n",
       "      <td>Urban</td>\n",
       "      <td>Y</td>\n",
       "    </tr>\n",
       "    <tr>\n",
       "      <th>613</th>\n",
       "      <td>LP002990</td>\n",
       "      <td>Female</td>\n",
       "      <td>No</td>\n",
       "      <td>0</td>\n",
       "      <td>Graduate</td>\n",
       "      <td>Yes</td>\n",
       "      <td>4583</td>\n",
       "      <td>0.0</td>\n",
       "      <td>133.0</td>\n",
       "      <td>360.0</td>\n",
       "      <td>0.0</td>\n",
       "      <td>Semiurban</td>\n",
       "      <td>N</td>\n",
       "    </tr>\n",
       "  </tbody>\n",
       "</table>\n",
       "<p>614 rows × 13 columns</p>\n",
       "</div>"
      ],
      "text/plain": [
       "      loan_id  gender married dependents     education self_employed  \\\n",
       "0    LP001002    Male      No          0      Graduate            No   \n",
       "1    LP001003    Male     Yes          1      Graduate            No   \n",
       "2    LP001005    Male     Yes          0      Graduate           Yes   \n",
       "3    LP001006    Male     Yes          0  Not Graduate            No   \n",
       "4    LP001008    Male      No          0      Graduate            No   \n",
       "..        ...     ...     ...        ...           ...           ...   \n",
       "609  LP002978  Female      No          0      Graduate            No   \n",
       "610  LP002979    Male     Yes         3+      Graduate            No   \n",
       "611  LP002983    Male     Yes          1      Graduate            No   \n",
       "612  LP002984    Male     Yes          2      Graduate            No   \n",
       "613  LP002990  Female      No          0      Graduate           Yes   \n",
       "\n",
       "     applicantincome  coapplicantincome  loanamount  loan_amount_term  \\\n",
       "0               5849                0.0         NaN             360.0   \n",
       "1               4583             1508.0       128.0             360.0   \n",
       "2               3000                0.0        66.0             360.0   \n",
       "3               2583             2358.0       120.0             360.0   \n",
       "4               6000                0.0       141.0             360.0   \n",
       "..               ...                ...         ...               ...   \n",
       "609             2900                0.0        71.0             360.0   \n",
       "610             4106                0.0        40.0             180.0   \n",
       "611             8072              240.0       253.0             360.0   \n",
       "612             7583                0.0       187.0             360.0   \n",
       "613             4583                0.0       133.0             360.0   \n",
       "\n",
       "     credit_history property_area loan_status  \n",
       "0               1.0         Urban           Y  \n",
       "1               1.0         Rural           N  \n",
       "2               1.0         Urban           Y  \n",
       "3               1.0         Urban           Y  \n",
       "4               1.0         Urban           Y  \n",
       "..              ...           ...         ...  \n",
       "609             1.0         Rural           Y  \n",
       "610             1.0         Rural           Y  \n",
       "611             1.0         Urban           Y  \n",
       "612             1.0         Urban           Y  \n",
       "613             0.0     Semiurban           N  \n",
       "\n",
       "[614 rows x 13 columns]"
      ]
     },
     "execution_count": 63,
     "metadata": {},
     "output_type": "execute_result"
    }
   ],
   "source": [
    "df"
   ]
  },
  {
   "cell_type": "markdown",
   "id": "a847bc6c",
   "metadata": {},
   "source": [
    "# I. Data cleaning and exploration\n",
    "## a. Explore and clean categorical columns"
   ]
  },
  {
   "cell_type": "code",
   "execution_count": 64,
   "id": "0da9c602",
   "metadata": {
    "scrolled": true
   },
   "outputs": [
    {
     "data": {
      "text/html": [
       "<div>\n",
       "<style scoped>\n",
       "    .dataframe tbody tr th:only-of-type {\n",
       "        vertical-align: middle;\n",
       "    }\n",
       "\n",
       "    .dataframe tbody tr th {\n",
       "        vertical-align: top;\n",
       "    }\n",
       "\n",
       "    .dataframe thead th {\n",
       "        text-align: right;\n",
       "    }\n",
       "</style>\n",
       "<table border=\"1\" class=\"dataframe\">\n",
       "  <thead>\n",
       "    <tr style=\"text-align: right;\">\n",
       "      <th></th>\n",
       "      <th>loan_id</th>\n",
       "      <th>gender</th>\n",
       "      <th>married</th>\n",
       "      <th>dependents</th>\n",
       "      <th>education</th>\n",
       "      <th>self_employed</th>\n",
       "      <th>property_area</th>\n",
       "      <th>loan_status</th>\n",
       "    </tr>\n",
       "  </thead>\n",
       "  <tbody>\n",
       "    <tr>\n",
       "      <th>0</th>\n",
       "      <td>LP001002</td>\n",
       "      <td>Male</td>\n",
       "      <td>No</td>\n",
       "      <td>0</td>\n",
       "      <td>Graduate</td>\n",
       "      <td>No</td>\n",
       "      <td>Urban</td>\n",
       "      <td>Y</td>\n",
       "    </tr>\n",
       "    <tr>\n",
       "      <th>1</th>\n",
       "      <td>LP001003</td>\n",
       "      <td>Male</td>\n",
       "      <td>Yes</td>\n",
       "      <td>1</td>\n",
       "      <td>Graduate</td>\n",
       "      <td>No</td>\n",
       "      <td>Rural</td>\n",
       "      <td>N</td>\n",
       "    </tr>\n",
       "    <tr>\n",
       "      <th>2</th>\n",
       "      <td>LP001005</td>\n",
       "      <td>Male</td>\n",
       "      <td>Yes</td>\n",
       "      <td>0</td>\n",
       "      <td>Graduate</td>\n",
       "      <td>Yes</td>\n",
       "      <td>Urban</td>\n",
       "      <td>Y</td>\n",
       "    </tr>\n",
       "    <tr>\n",
       "      <th>3</th>\n",
       "      <td>LP001006</td>\n",
       "      <td>Male</td>\n",
       "      <td>Yes</td>\n",
       "      <td>0</td>\n",
       "      <td>Not Graduate</td>\n",
       "      <td>No</td>\n",
       "      <td>Urban</td>\n",
       "      <td>Y</td>\n",
       "    </tr>\n",
       "    <tr>\n",
       "      <th>4</th>\n",
       "      <td>LP001008</td>\n",
       "      <td>Male</td>\n",
       "      <td>No</td>\n",
       "      <td>0</td>\n",
       "      <td>Graduate</td>\n",
       "      <td>No</td>\n",
       "      <td>Urban</td>\n",
       "      <td>Y</td>\n",
       "    </tr>\n",
       "    <tr>\n",
       "      <th>...</th>\n",
       "      <td>...</td>\n",
       "      <td>...</td>\n",
       "      <td>...</td>\n",
       "      <td>...</td>\n",
       "      <td>...</td>\n",
       "      <td>...</td>\n",
       "      <td>...</td>\n",
       "      <td>...</td>\n",
       "    </tr>\n",
       "    <tr>\n",
       "      <th>609</th>\n",
       "      <td>LP002978</td>\n",
       "      <td>Female</td>\n",
       "      <td>No</td>\n",
       "      <td>0</td>\n",
       "      <td>Graduate</td>\n",
       "      <td>No</td>\n",
       "      <td>Rural</td>\n",
       "      <td>Y</td>\n",
       "    </tr>\n",
       "    <tr>\n",
       "      <th>610</th>\n",
       "      <td>LP002979</td>\n",
       "      <td>Male</td>\n",
       "      <td>Yes</td>\n",
       "      <td>3+</td>\n",
       "      <td>Graduate</td>\n",
       "      <td>No</td>\n",
       "      <td>Rural</td>\n",
       "      <td>Y</td>\n",
       "    </tr>\n",
       "    <tr>\n",
       "      <th>611</th>\n",
       "      <td>LP002983</td>\n",
       "      <td>Male</td>\n",
       "      <td>Yes</td>\n",
       "      <td>1</td>\n",
       "      <td>Graduate</td>\n",
       "      <td>No</td>\n",
       "      <td>Urban</td>\n",
       "      <td>Y</td>\n",
       "    </tr>\n",
       "    <tr>\n",
       "      <th>612</th>\n",
       "      <td>LP002984</td>\n",
       "      <td>Male</td>\n",
       "      <td>Yes</td>\n",
       "      <td>2</td>\n",
       "      <td>Graduate</td>\n",
       "      <td>No</td>\n",
       "      <td>Urban</td>\n",
       "      <td>Y</td>\n",
       "    </tr>\n",
       "    <tr>\n",
       "      <th>613</th>\n",
       "      <td>LP002990</td>\n",
       "      <td>Female</td>\n",
       "      <td>No</td>\n",
       "      <td>0</td>\n",
       "      <td>Graduate</td>\n",
       "      <td>Yes</td>\n",
       "      <td>Semiurban</td>\n",
       "      <td>N</td>\n",
       "    </tr>\n",
       "  </tbody>\n",
       "</table>\n",
       "<p>614 rows × 8 columns</p>\n",
       "</div>"
      ],
      "text/plain": [
       "      loan_id  gender married dependents     education self_employed  \\\n",
       "0    LP001002    Male      No          0      Graduate            No   \n",
       "1    LP001003    Male     Yes          1      Graduate            No   \n",
       "2    LP001005    Male     Yes          0      Graduate           Yes   \n",
       "3    LP001006    Male     Yes          0  Not Graduate            No   \n",
       "4    LP001008    Male      No          0      Graduate            No   \n",
       "..        ...     ...     ...        ...           ...           ...   \n",
       "609  LP002978  Female      No          0      Graduate            No   \n",
       "610  LP002979    Male     Yes         3+      Graduate            No   \n",
       "611  LP002983    Male     Yes          1      Graduate            No   \n",
       "612  LP002984    Male     Yes          2      Graduate            No   \n",
       "613  LP002990  Female      No          0      Graduate           Yes   \n",
       "\n",
       "    property_area loan_status  \n",
       "0           Urban           Y  \n",
       "1           Rural           N  \n",
       "2           Urban           Y  \n",
       "3           Urban           Y  \n",
       "4           Urban           Y  \n",
       "..            ...         ...  \n",
       "609         Rural           Y  \n",
       "610         Rural           Y  \n",
       "611         Urban           Y  \n",
       "612         Urban           Y  \n",
       "613     Semiurban           N  \n",
       "\n",
       "[614 rows x 8 columns]"
      ]
     },
     "execution_count": 64,
     "metadata": {},
     "output_type": "execute_result"
    }
   ],
   "source": [
    "df.select_dtypes('object')"
   ]
  },
  {
   "cell_type": "markdown",
   "id": "91087bf7",
   "metadata": {},
   "source": [
    "#### Dropping ID column as it is irrelevant information"
   ]
  },
  {
   "cell_type": "code",
   "execution_count": 65,
   "id": "c85e0171",
   "metadata": {
    "scrolled": false
   },
   "outputs": [
    {
     "data": {
      "text/html": [
       "<div>\n",
       "<style scoped>\n",
       "    .dataframe tbody tr th:only-of-type {\n",
       "        vertical-align: middle;\n",
       "    }\n",
       "\n",
       "    .dataframe tbody tr th {\n",
       "        vertical-align: top;\n",
       "    }\n",
       "\n",
       "    .dataframe thead th {\n",
       "        text-align: right;\n",
       "    }\n",
       "</style>\n",
       "<table border=\"1\" class=\"dataframe\">\n",
       "  <thead>\n",
       "    <tr style=\"text-align: right;\">\n",
       "      <th></th>\n",
       "      <th>gender</th>\n",
       "      <th>married</th>\n",
       "      <th>dependents</th>\n",
       "      <th>education</th>\n",
       "      <th>self_employed</th>\n",
       "      <th>applicantincome</th>\n",
       "      <th>coapplicantincome</th>\n",
       "      <th>loanamount</th>\n",
       "      <th>loan_amount_term</th>\n",
       "      <th>credit_history</th>\n",
       "      <th>property_area</th>\n",
       "      <th>loan_status</th>\n",
       "    </tr>\n",
       "  </thead>\n",
       "  <tbody>\n",
       "    <tr>\n",
       "      <th>0</th>\n",
       "      <td>Male</td>\n",
       "      <td>No</td>\n",
       "      <td>0</td>\n",
       "      <td>Graduate</td>\n",
       "      <td>No</td>\n",
       "      <td>5849</td>\n",
       "      <td>0.0</td>\n",
       "      <td>NaN</td>\n",
       "      <td>360.0</td>\n",
       "      <td>1.0</td>\n",
       "      <td>Urban</td>\n",
       "      <td>Y</td>\n",
       "    </tr>\n",
       "    <tr>\n",
       "      <th>1</th>\n",
       "      <td>Male</td>\n",
       "      <td>Yes</td>\n",
       "      <td>1</td>\n",
       "      <td>Graduate</td>\n",
       "      <td>No</td>\n",
       "      <td>4583</td>\n",
       "      <td>1508.0</td>\n",
       "      <td>128.0</td>\n",
       "      <td>360.0</td>\n",
       "      <td>1.0</td>\n",
       "      <td>Rural</td>\n",
       "      <td>N</td>\n",
       "    </tr>\n",
       "    <tr>\n",
       "      <th>2</th>\n",
       "      <td>Male</td>\n",
       "      <td>Yes</td>\n",
       "      <td>0</td>\n",
       "      <td>Graduate</td>\n",
       "      <td>Yes</td>\n",
       "      <td>3000</td>\n",
       "      <td>0.0</td>\n",
       "      <td>66.0</td>\n",
       "      <td>360.0</td>\n",
       "      <td>1.0</td>\n",
       "      <td>Urban</td>\n",
       "      <td>Y</td>\n",
       "    </tr>\n",
       "    <tr>\n",
       "      <th>3</th>\n",
       "      <td>Male</td>\n",
       "      <td>Yes</td>\n",
       "      <td>0</td>\n",
       "      <td>Not Graduate</td>\n",
       "      <td>No</td>\n",
       "      <td>2583</td>\n",
       "      <td>2358.0</td>\n",
       "      <td>120.0</td>\n",
       "      <td>360.0</td>\n",
       "      <td>1.0</td>\n",
       "      <td>Urban</td>\n",
       "      <td>Y</td>\n",
       "    </tr>\n",
       "    <tr>\n",
       "      <th>4</th>\n",
       "      <td>Male</td>\n",
       "      <td>No</td>\n",
       "      <td>0</td>\n",
       "      <td>Graduate</td>\n",
       "      <td>No</td>\n",
       "      <td>6000</td>\n",
       "      <td>0.0</td>\n",
       "      <td>141.0</td>\n",
       "      <td>360.0</td>\n",
       "      <td>1.0</td>\n",
       "      <td>Urban</td>\n",
       "      <td>Y</td>\n",
       "    </tr>\n",
       "    <tr>\n",
       "      <th>...</th>\n",
       "      <td>...</td>\n",
       "      <td>...</td>\n",
       "      <td>...</td>\n",
       "      <td>...</td>\n",
       "      <td>...</td>\n",
       "      <td>...</td>\n",
       "      <td>...</td>\n",
       "      <td>...</td>\n",
       "      <td>...</td>\n",
       "      <td>...</td>\n",
       "      <td>...</td>\n",
       "      <td>...</td>\n",
       "    </tr>\n",
       "    <tr>\n",
       "      <th>609</th>\n",
       "      <td>Female</td>\n",
       "      <td>No</td>\n",
       "      <td>0</td>\n",
       "      <td>Graduate</td>\n",
       "      <td>No</td>\n",
       "      <td>2900</td>\n",
       "      <td>0.0</td>\n",
       "      <td>71.0</td>\n",
       "      <td>360.0</td>\n",
       "      <td>1.0</td>\n",
       "      <td>Rural</td>\n",
       "      <td>Y</td>\n",
       "    </tr>\n",
       "    <tr>\n",
       "      <th>610</th>\n",
       "      <td>Male</td>\n",
       "      <td>Yes</td>\n",
       "      <td>3+</td>\n",
       "      <td>Graduate</td>\n",
       "      <td>No</td>\n",
       "      <td>4106</td>\n",
       "      <td>0.0</td>\n",
       "      <td>40.0</td>\n",
       "      <td>180.0</td>\n",
       "      <td>1.0</td>\n",
       "      <td>Rural</td>\n",
       "      <td>Y</td>\n",
       "    </tr>\n",
       "    <tr>\n",
       "      <th>611</th>\n",
       "      <td>Male</td>\n",
       "      <td>Yes</td>\n",
       "      <td>1</td>\n",
       "      <td>Graduate</td>\n",
       "      <td>No</td>\n",
       "      <td>8072</td>\n",
       "      <td>240.0</td>\n",
       "      <td>253.0</td>\n",
       "      <td>360.0</td>\n",
       "      <td>1.0</td>\n",
       "      <td>Urban</td>\n",
       "      <td>Y</td>\n",
       "    </tr>\n",
       "    <tr>\n",
       "      <th>612</th>\n",
       "      <td>Male</td>\n",
       "      <td>Yes</td>\n",
       "      <td>2</td>\n",
       "      <td>Graduate</td>\n",
       "      <td>No</td>\n",
       "      <td>7583</td>\n",
       "      <td>0.0</td>\n",
       "      <td>187.0</td>\n",
       "      <td>360.0</td>\n",
       "      <td>1.0</td>\n",
       "      <td>Urban</td>\n",
       "      <td>Y</td>\n",
       "    </tr>\n",
       "    <tr>\n",
       "      <th>613</th>\n",
       "      <td>Female</td>\n",
       "      <td>No</td>\n",
       "      <td>0</td>\n",
       "      <td>Graduate</td>\n",
       "      <td>Yes</td>\n",
       "      <td>4583</td>\n",
       "      <td>0.0</td>\n",
       "      <td>133.0</td>\n",
       "      <td>360.0</td>\n",
       "      <td>0.0</td>\n",
       "      <td>Semiurban</td>\n",
       "      <td>N</td>\n",
       "    </tr>\n",
       "  </tbody>\n",
       "</table>\n",
       "<p>614 rows × 12 columns</p>\n",
       "</div>"
      ],
      "text/plain": [
       "     gender married dependents     education self_employed  applicantincome  \\\n",
       "0      Male      No          0      Graduate            No             5849   \n",
       "1      Male     Yes          1      Graduate            No             4583   \n",
       "2      Male     Yes          0      Graduate           Yes             3000   \n",
       "3      Male     Yes          0  Not Graduate            No             2583   \n",
       "4      Male      No          0      Graduate            No             6000   \n",
       "..      ...     ...        ...           ...           ...              ...   \n",
       "609  Female      No          0      Graduate            No             2900   \n",
       "610    Male     Yes         3+      Graduate            No             4106   \n",
       "611    Male     Yes          1      Graduate            No             8072   \n",
       "612    Male     Yes          2      Graduate            No             7583   \n",
       "613  Female      No          0      Graduate           Yes             4583   \n",
       "\n",
       "     coapplicantincome  loanamount  loan_amount_term  credit_history  \\\n",
       "0                  0.0         NaN             360.0             1.0   \n",
       "1               1508.0       128.0             360.0             1.0   \n",
       "2                  0.0        66.0             360.0             1.0   \n",
       "3               2358.0       120.0             360.0             1.0   \n",
       "4                  0.0       141.0             360.0             1.0   \n",
       "..                 ...         ...               ...             ...   \n",
       "609                0.0        71.0             360.0             1.0   \n",
       "610                0.0        40.0             180.0             1.0   \n",
       "611              240.0       253.0             360.0             1.0   \n",
       "612                0.0       187.0             360.0             1.0   \n",
       "613                0.0       133.0             360.0             0.0   \n",
       "\n",
       "    property_area loan_status  \n",
       "0           Urban           Y  \n",
       "1           Rural           N  \n",
       "2           Urban           Y  \n",
       "3           Urban           Y  \n",
       "4           Urban           Y  \n",
       "..            ...         ...  \n",
       "609         Rural           Y  \n",
       "610         Rural           Y  \n",
       "611         Urban           Y  \n",
       "612         Urban           Y  \n",
       "613     Semiurban           N  \n",
       "\n",
       "[614 rows x 12 columns]"
      ]
     },
     "execution_count": 65,
     "metadata": {},
     "output_type": "execute_result"
    }
   ],
   "source": [
    "df = df.drop(['loan_id'],axis=1)\n",
    "df"
   ]
  },
  {
   "cell_type": "markdown",
   "id": "bab6003e",
   "metadata": {},
   "source": [
    "#### Visualizing and dealing with missing values\n",
    "* filling in Nans with the column's most promiment value"
   ]
  },
  {
   "cell_type": "code",
   "execution_count": 66,
   "id": "8926fdd0",
   "metadata": {
    "scrolled": true
   },
   "outputs": [
    {
     "name": "stdout",
     "output_type": "stream",
     "text": [
      "gender nulls:  13\n"
     ]
    },
    {
     "data": {
      "text/plain": [
       "Male      489\n",
       "Female    112\n",
       "Name: gender, dtype: int64"
      ]
     },
     "metadata": {},
     "output_type": "display_data"
    },
    {
     "name": "stdout",
     "output_type": "stream",
     "text": [
      "__________________________________ \n",
      "\n",
      "married nulls:  3\n"
     ]
    },
    {
     "data": {
      "text/plain": [
       "Yes    398\n",
       "No     213\n",
       "Name: married, dtype: int64"
      ]
     },
     "metadata": {},
     "output_type": "display_data"
    },
    {
     "name": "stdout",
     "output_type": "stream",
     "text": [
      "__________________________________ \n",
      "\n",
      "dependents nulls:  15\n"
     ]
    },
    {
     "data": {
      "text/plain": [
       "0     345\n",
       "1     102\n",
       "2     101\n",
       "3+     51\n",
       "Name: dependents, dtype: int64"
      ]
     },
     "metadata": {},
     "output_type": "display_data"
    },
    {
     "name": "stdout",
     "output_type": "stream",
     "text": [
      "__________________________________ \n",
      "\n",
      "education nulls:  0\n"
     ]
    },
    {
     "data": {
      "text/plain": [
       "Graduate        480\n",
       "Not Graduate    134\n",
       "Name: education, dtype: int64"
      ]
     },
     "metadata": {},
     "output_type": "display_data"
    },
    {
     "name": "stdout",
     "output_type": "stream",
     "text": [
      "__________________________________ \n",
      "\n",
      "self_employed nulls:  32\n"
     ]
    },
    {
     "data": {
      "text/plain": [
       "No     500\n",
       "Yes     82\n",
       "Name: self_employed, dtype: int64"
      ]
     },
     "metadata": {},
     "output_type": "display_data"
    },
    {
     "name": "stdout",
     "output_type": "stream",
     "text": [
      "__________________________________ \n",
      "\n",
      "property_area nulls:  0\n"
     ]
    },
    {
     "data": {
      "text/plain": [
       "Semiurban    233\n",
       "Urban        202\n",
       "Rural        179\n",
       "Name: property_area, dtype: int64"
      ]
     },
     "metadata": {},
     "output_type": "display_data"
    },
    {
     "name": "stdout",
     "output_type": "stream",
     "text": [
      "__________________________________ \n",
      "\n",
      "loan_status nulls:  0\n"
     ]
    },
    {
     "data": {
      "text/plain": [
       "Y    422\n",
       "N    192\n",
       "Name: loan_status, dtype: int64"
      ]
     },
     "metadata": {},
     "output_type": "display_data"
    },
    {
     "name": "stdout",
     "output_type": "stream",
     "text": [
      "__________________________________ \n",
      "\n"
     ]
    }
   ],
   "source": [
    "for col in df.select_dtypes('object'):\n",
    "    print(col, 'nulls: ', df[col].isna().sum())\n",
    "    display(df[col].value_counts())\n",
    "    print('__________________________________', '\\n')"
   ]
  },
  {
   "cell_type": "code",
   "execution_count": 67,
   "id": "5ba18c6a",
   "metadata": {},
   "outputs": [],
   "source": [
    "df['gender'] = df['gender'].fillna('Male')\n",
    "df['married'] = df['married'].fillna('Yes')\n",
    "df['dependents'] = df['dependents'].fillna('0')\n",
    "df['gender'] = df['gender'].fillna('Male')\n",
    "df['self_employed'] = df['self_employed'].fillna('No')"
   ]
  },
  {
   "cell_type": "code",
   "execution_count": 68,
   "id": "8a8c8872",
   "metadata": {
    "scrolled": true
   },
   "outputs": [
    {
     "name": "stdout",
     "output_type": "stream",
     "text": [
      "gender nulls:  0\n"
     ]
    },
    {
     "data": {
      "text/plain": [
       "Male      502\n",
       "Female    112\n",
       "Name: gender, dtype: int64"
      ]
     },
     "metadata": {},
     "output_type": "display_data"
    },
    {
     "name": "stdout",
     "output_type": "stream",
     "text": [
      "__________________________________ \n",
      "\n",
      "married nulls:  0\n"
     ]
    },
    {
     "data": {
      "text/plain": [
       "Yes    401\n",
       "No     213\n",
       "Name: married, dtype: int64"
      ]
     },
     "metadata": {},
     "output_type": "display_data"
    },
    {
     "name": "stdout",
     "output_type": "stream",
     "text": [
      "__________________________________ \n",
      "\n",
      "dependents nulls:  0\n"
     ]
    },
    {
     "data": {
      "text/plain": [
       "0     360\n",
       "1     102\n",
       "2     101\n",
       "3+     51\n",
       "Name: dependents, dtype: int64"
      ]
     },
     "metadata": {},
     "output_type": "display_data"
    },
    {
     "name": "stdout",
     "output_type": "stream",
     "text": [
      "__________________________________ \n",
      "\n",
      "education nulls:  0\n"
     ]
    },
    {
     "data": {
      "text/plain": [
       "Graduate        480\n",
       "Not Graduate    134\n",
       "Name: education, dtype: int64"
      ]
     },
     "metadata": {},
     "output_type": "display_data"
    },
    {
     "name": "stdout",
     "output_type": "stream",
     "text": [
      "__________________________________ \n",
      "\n",
      "self_employed nulls:  0\n"
     ]
    },
    {
     "data": {
      "text/plain": [
       "No     532\n",
       "Yes     82\n",
       "Name: self_employed, dtype: int64"
      ]
     },
     "metadata": {},
     "output_type": "display_data"
    },
    {
     "name": "stdout",
     "output_type": "stream",
     "text": [
      "__________________________________ \n",
      "\n",
      "property_area nulls:  0\n"
     ]
    },
    {
     "data": {
      "text/plain": [
       "Semiurban    233\n",
       "Urban        202\n",
       "Rural        179\n",
       "Name: property_area, dtype: int64"
      ]
     },
     "metadata": {},
     "output_type": "display_data"
    },
    {
     "name": "stdout",
     "output_type": "stream",
     "text": [
      "__________________________________ \n",
      "\n",
      "loan_status nulls:  0\n"
     ]
    },
    {
     "data": {
      "text/plain": [
       "Y    422\n",
       "N    192\n",
       "Name: loan_status, dtype: int64"
      ]
     },
     "metadata": {},
     "output_type": "display_data"
    },
    {
     "name": "stdout",
     "output_type": "stream",
     "text": [
      "__________________________________ \n",
      "\n"
     ]
    }
   ],
   "source": [
    "for col in df.select_dtypes('object'):\n",
    "    print(col, 'nulls: ', df[col].isna().sum())\n",
    "    display(df[col].value_counts())\n",
    "    print('__________________________________', '\\n')"
   ]
  },
  {
   "cell_type": "markdown",
   "id": "37cf5e0d",
   "metadata": {},
   "source": [
    "#### Converting 'dependents' to numerical"
   ]
  },
  {
   "cell_type": "code",
   "execution_count": 69,
   "id": "78f3a78e",
   "metadata": {
    "scrolled": true
   },
   "outputs": [
    {
     "data": {
      "text/plain": [
       "0      0\n",
       "1      1\n",
       "2      0\n",
       "3      0\n",
       "4      0\n",
       "      ..\n",
       "609    0\n",
       "610    3\n",
       "611    1\n",
       "612    2\n",
       "613    0\n",
       "Name: dependents, Length: 614, dtype: int32"
      ]
     },
     "execution_count": 69,
     "metadata": {},
     "output_type": "execute_result"
    }
   ],
   "source": [
    "df['dependents'] = df['dependents'].str[:1].astype(int) \n",
    "df['dependents']"
   ]
  },
  {
   "cell_type": "markdown",
   "id": "55b37231",
   "metadata": {},
   "source": [
    "## b. Explore and clean numerical columns"
   ]
  },
  {
   "cell_type": "code",
   "execution_count": 70,
   "id": "9452c9ce",
   "metadata": {
    "scrolled": true
   },
   "outputs": [
    {
     "data": {
      "text/html": [
       "<div>\n",
       "<style scoped>\n",
       "    .dataframe tbody tr th:only-of-type {\n",
       "        vertical-align: middle;\n",
       "    }\n",
       "\n",
       "    .dataframe tbody tr th {\n",
       "        vertical-align: top;\n",
       "    }\n",
       "\n",
       "    .dataframe thead th {\n",
       "        text-align: right;\n",
       "    }\n",
       "</style>\n",
       "<table border=\"1\" class=\"dataframe\">\n",
       "  <thead>\n",
       "    <tr style=\"text-align: right;\">\n",
       "      <th></th>\n",
       "      <th>dependents</th>\n",
       "      <th>applicantincome</th>\n",
       "      <th>coapplicantincome</th>\n",
       "      <th>loanamount</th>\n",
       "      <th>loan_amount_term</th>\n",
       "      <th>credit_history</th>\n",
       "    </tr>\n",
       "  </thead>\n",
       "  <tbody>\n",
       "    <tr>\n",
       "      <th>0</th>\n",
       "      <td>0</td>\n",
       "      <td>5849</td>\n",
       "      <td>0.0</td>\n",
       "      <td>NaN</td>\n",
       "      <td>360.0</td>\n",
       "      <td>1.0</td>\n",
       "    </tr>\n",
       "    <tr>\n",
       "      <th>1</th>\n",
       "      <td>1</td>\n",
       "      <td>4583</td>\n",
       "      <td>1508.0</td>\n",
       "      <td>128.0</td>\n",
       "      <td>360.0</td>\n",
       "      <td>1.0</td>\n",
       "    </tr>\n",
       "    <tr>\n",
       "      <th>2</th>\n",
       "      <td>0</td>\n",
       "      <td>3000</td>\n",
       "      <td>0.0</td>\n",
       "      <td>66.0</td>\n",
       "      <td>360.0</td>\n",
       "      <td>1.0</td>\n",
       "    </tr>\n",
       "    <tr>\n",
       "      <th>3</th>\n",
       "      <td>0</td>\n",
       "      <td>2583</td>\n",
       "      <td>2358.0</td>\n",
       "      <td>120.0</td>\n",
       "      <td>360.0</td>\n",
       "      <td>1.0</td>\n",
       "    </tr>\n",
       "    <tr>\n",
       "      <th>4</th>\n",
       "      <td>0</td>\n",
       "      <td>6000</td>\n",
       "      <td>0.0</td>\n",
       "      <td>141.0</td>\n",
       "      <td>360.0</td>\n",
       "      <td>1.0</td>\n",
       "    </tr>\n",
       "    <tr>\n",
       "      <th>...</th>\n",
       "      <td>...</td>\n",
       "      <td>...</td>\n",
       "      <td>...</td>\n",
       "      <td>...</td>\n",
       "      <td>...</td>\n",
       "      <td>...</td>\n",
       "    </tr>\n",
       "    <tr>\n",
       "      <th>609</th>\n",
       "      <td>0</td>\n",
       "      <td>2900</td>\n",
       "      <td>0.0</td>\n",
       "      <td>71.0</td>\n",
       "      <td>360.0</td>\n",
       "      <td>1.0</td>\n",
       "    </tr>\n",
       "    <tr>\n",
       "      <th>610</th>\n",
       "      <td>3</td>\n",
       "      <td>4106</td>\n",
       "      <td>0.0</td>\n",
       "      <td>40.0</td>\n",
       "      <td>180.0</td>\n",
       "      <td>1.0</td>\n",
       "    </tr>\n",
       "    <tr>\n",
       "      <th>611</th>\n",
       "      <td>1</td>\n",
       "      <td>8072</td>\n",
       "      <td>240.0</td>\n",
       "      <td>253.0</td>\n",
       "      <td>360.0</td>\n",
       "      <td>1.0</td>\n",
       "    </tr>\n",
       "    <tr>\n",
       "      <th>612</th>\n",
       "      <td>2</td>\n",
       "      <td>7583</td>\n",
       "      <td>0.0</td>\n",
       "      <td>187.0</td>\n",
       "      <td>360.0</td>\n",
       "      <td>1.0</td>\n",
       "    </tr>\n",
       "    <tr>\n",
       "      <th>613</th>\n",
       "      <td>0</td>\n",
       "      <td>4583</td>\n",
       "      <td>0.0</td>\n",
       "      <td>133.0</td>\n",
       "      <td>360.0</td>\n",
       "      <td>0.0</td>\n",
       "    </tr>\n",
       "  </tbody>\n",
       "</table>\n",
       "<p>614 rows × 6 columns</p>\n",
       "</div>"
      ],
      "text/plain": [
       "     dependents  applicantincome  coapplicantincome  loanamount  \\\n",
       "0             0             5849                0.0         NaN   \n",
       "1             1             4583             1508.0       128.0   \n",
       "2             0             3000                0.0        66.0   \n",
       "3             0             2583             2358.0       120.0   \n",
       "4             0             6000                0.0       141.0   \n",
       "..          ...              ...                ...         ...   \n",
       "609           0             2900                0.0        71.0   \n",
       "610           3             4106                0.0        40.0   \n",
       "611           1             8072              240.0       253.0   \n",
       "612           2             7583                0.0       187.0   \n",
       "613           0             4583                0.0       133.0   \n",
       "\n",
       "     loan_amount_term  credit_history  \n",
       "0               360.0             1.0  \n",
       "1               360.0             1.0  \n",
       "2               360.0             1.0  \n",
       "3               360.0             1.0  \n",
       "4               360.0             1.0  \n",
       "..                ...             ...  \n",
       "609             360.0             1.0  \n",
       "610             180.0             1.0  \n",
       "611             360.0             1.0  \n",
       "612             360.0             1.0  \n",
       "613             360.0             0.0  \n",
       "\n",
       "[614 rows x 6 columns]"
      ]
     },
     "execution_count": 70,
     "metadata": {},
     "output_type": "execute_result"
    }
   ],
   "source": [
    "df.select_dtypes('number')"
   ]
  },
  {
   "cell_type": "code",
   "execution_count": 71,
   "id": "5f3bc109",
   "metadata": {
    "scrolled": true
   },
   "outputs": [
    {
     "data": {
      "text/html": [
       "<div>\n",
       "<style scoped>\n",
       "    .dataframe tbody tr th:only-of-type {\n",
       "        vertical-align: middle;\n",
       "    }\n",
       "\n",
       "    .dataframe tbody tr th {\n",
       "        vertical-align: top;\n",
       "    }\n",
       "\n",
       "    .dataframe thead th {\n",
       "        text-align: right;\n",
       "    }\n",
       "</style>\n",
       "<table border=\"1\" class=\"dataframe\">\n",
       "  <thead>\n",
       "    <tr style=\"text-align: right;\">\n",
       "      <th></th>\n",
       "      <th>dependents</th>\n",
       "      <th>applicantincome</th>\n",
       "      <th>coapplicantincome</th>\n",
       "      <th>loanamount</th>\n",
       "      <th>loan_amount_term</th>\n",
       "      <th>credit_history</th>\n",
       "    </tr>\n",
       "  </thead>\n",
       "  <tbody>\n",
       "    <tr>\n",
       "      <th>count</th>\n",
       "      <td>614.000000</td>\n",
       "      <td>614.000000</td>\n",
       "      <td>614.000000</td>\n",
       "      <td>592.000000</td>\n",
       "      <td>600.00000</td>\n",
       "      <td>564.000000</td>\n",
       "    </tr>\n",
       "    <tr>\n",
       "      <th>mean</th>\n",
       "      <td>0.744300</td>\n",
       "      <td>5403.459283</td>\n",
       "      <td>1621.245798</td>\n",
       "      <td>146.412162</td>\n",
       "      <td>342.00000</td>\n",
       "      <td>0.842199</td>\n",
       "    </tr>\n",
       "    <tr>\n",
       "      <th>std</th>\n",
       "      <td>1.009623</td>\n",
       "      <td>6109.041673</td>\n",
       "      <td>2926.248369</td>\n",
       "      <td>85.587325</td>\n",
       "      <td>65.12041</td>\n",
       "      <td>0.364878</td>\n",
       "    </tr>\n",
       "    <tr>\n",
       "      <th>min</th>\n",
       "      <td>0.000000</td>\n",
       "      <td>150.000000</td>\n",
       "      <td>0.000000</td>\n",
       "      <td>9.000000</td>\n",
       "      <td>12.00000</td>\n",
       "      <td>0.000000</td>\n",
       "    </tr>\n",
       "    <tr>\n",
       "      <th>25%</th>\n",
       "      <td>0.000000</td>\n",
       "      <td>2877.500000</td>\n",
       "      <td>0.000000</td>\n",
       "      <td>100.000000</td>\n",
       "      <td>360.00000</td>\n",
       "      <td>1.000000</td>\n",
       "    </tr>\n",
       "    <tr>\n",
       "      <th>50%</th>\n",
       "      <td>0.000000</td>\n",
       "      <td>3812.500000</td>\n",
       "      <td>1188.500000</td>\n",
       "      <td>128.000000</td>\n",
       "      <td>360.00000</td>\n",
       "      <td>1.000000</td>\n",
       "    </tr>\n",
       "    <tr>\n",
       "      <th>75%</th>\n",
       "      <td>1.000000</td>\n",
       "      <td>5795.000000</td>\n",
       "      <td>2297.250000</td>\n",
       "      <td>168.000000</td>\n",
       "      <td>360.00000</td>\n",
       "      <td>1.000000</td>\n",
       "    </tr>\n",
       "    <tr>\n",
       "      <th>max</th>\n",
       "      <td>3.000000</td>\n",
       "      <td>81000.000000</td>\n",
       "      <td>41667.000000</td>\n",
       "      <td>700.000000</td>\n",
       "      <td>480.00000</td>\n",
       "      <td>1.000000</td>\n",
       "    </tr>\n",
       "  </tbody>\n",
       "</table>\n",
       "</div>"
      ],
      "text/plain": [
       "       dependents  applicantincome  coapplicantincome  loanamount  \\\n",
       "count  614.000000       614.000000         614.000000  592.000000   \n",
       "mean     0.744300      5403.459283        1621.245798  146.412162   \n",
       "std      1.009623      6109.041673        2926.248369   85.587325   \n",
       "min      0.000000       150.000000           0.000000    9.000000   \n",
       "25%      0.000000      2877.500000           0.000000  100.000000   \n",
       "50%      0.000000      3812.500000        1188.500000  128.000000   \n",
       "75%      1.000000      5795.000000        2297.250000  168.000000   \n",
       "max      3.000000     81000.000000       41667.000000  700.000000   \n",
       "\n",
       "       loan_amount_term  credit_history  \n",
       "count         600.00000      564.000000  \n",
       "mean          342.00000        0.842199  \n",
       "std            65.12041        0.364878  \n",
       "min            12.00000        0.000000  \n",
       "25%           360.00000        1.000000  \n",
       "50%           360.00000        1.000000  \n",
       "75%           360.00000        1.000000  \n",
       "max           480.00000        1.000000  "
      ]
     },
     "execution_count": 71,
     "metadata": {},
     "output_type": "execute_result"
    }
   ],
   "source": [
    "df.select_dtypes('number').describe()"
   ]
  },
  {
   "cell_type": "markdown",
   "id": "2bf6ddec",
   "metadata": {},
   "source": [
    "#### Checking for missing values"
   ]
  },
  {
   "cell_type": "code",
   "execution_count": 72,
   "id": "2792581b",
   "metadata": {},
   "outputs": [
    {
     "name": "stdout",
     "output_type": "stream",
     "text": [
      "dependents nulls:  0\n",
      "applicantincome nulls:  0\n",
      "coapplicantincome nulls:  0\n",
      "loanamount nulls:  22\n",
      "loan_amount_term nulls:  14\n",
      "credit_history nulls:  50\n"
     ]
    }
   ],
   "source": [
    "for col in df.select_dtypes('number'):\n",
    "    print(col, 'nulls: ', df[col].isna().sum())"
   ]
  },
  {
   "cell_type": "code",
   "execution_count": 73,
   "id": "3d8202ef",
   "metadata": {},
   "outputs": [
    {
     "data": {
      "text/plain": [
       "120.0    20\n",
       "110.0    17\n",
       "100.0    15\n",
       "160.0    12\n",
       "187.0    12\n",
       "         ..\n",
       "240.0     1\n",
       "214.0     1\n",
       "59.0      1\n",
       "166.0     1\n",
       "253.0     1\n",
       "Name: loanamount, Length: 203, dtype: int64"
      ]
     },
     "metadata": {},
     "output_type": "display_data"
    },
    {
     "data": {
      "text/plain": [
       "360.0    512\n",
       "180.0     44\n",
       "480.0     15\n",
       "300.0     13\n",
       "240.0      4\n",
       "84.0       4\n",
       "120.0      3\n",
       "60.0       2\n",
       "36.0       2\n",
       "12.0       1\n",
       "Name: loan_amount_term, dtype: int64"
      ]
     },
     "metadata": {},
     "output_type": "display_data"
    },
    {
     "data": {
      "text/plain": [
       "1.0    475\n",
       "0.0     89\n",
       "Name: credit_history, dtype: int64"
      ]
     },
     "metadata": {},
     "output_type": "display_data"
    }
   ],
   "source": [
    "for col in df[['loanamount','loan_amount_term','credit_history']]:\n",
    "    display(df[col].value_counts())"
   ]
  },
  {
   "cell_type": "markdown",
   "id": "2ebed238",
   "metadata": {},
   "source": [
    "#### 'credit_history' contains discrete values\n",
    "* filling in Nans with the most prominent value in the column\n",
    "* dropping Nans - model achieved better results"
   ]
  },
  {
   "cell_type": "code",
   "execution_count": 74,
   "id": "f8fa08da",
   "metadata": {},
   "outputs": [
    {
     "data": {
      "text/plain": [
       "0"
      ]
     },
     "metadata": {},
     "output_type": "display_data"
    },
    {
     "data": {
      "text/plain": [
       "1.0    475\n",
       "0.0     89\n",
       "Name: credit_history, dtype: int64"
      ]
     },
     "execution_count": 74,
     "metadata": {},
     "output_type": "execute_result"
    }
   ],
   "source": [
    "#df['credit_history'] = df['credit_history'].fillna(1.0)\n",
    "\n",
    "df = df[df['credit_history'].notnull()]\n",
    "display(df['credit_history'].isna().sum())\n",
    "df['credit_history'].value_counts()"
   ]
  },
  {
   "cell_type": "markdown",
   "id": "d27f6804",
   "metadata": {},
   "source": [
    "#### the same applies to 'loan_amount_term'\n",
    "* filling in Nans with the most prominent value in the column\n",
    "* neglegible change to mean and std of values in column"
   ]
  },
  {
   "cell_type": "code",
   "execution_count": 75,
   "id": "d4e49bb1",
   "metadata": {},
   "outputs": [
    {
     "data": {
      "text/plain": [
       "0"
      ]
     },
     "metadata": {},
     "output_type": "display_data"
    },
    {
     "data": {
      "text/plain": [
       "count    564.000000\n",
       "mean     342.595745\n",
       "std       63.838715\n",
       "min       36.000000\n",
       "25%      360.000000\n",
       "50%      360.000000\n",
       "75%      360.000000\n",
       "max      480.000000\n",
       "Name: loan_amount_term, dtype: float64"
      ]
     },
     "metadata": {},
     "output_type": "display_data"
    },
    {
     "data": {
      "text/plain": [
       "360.0    484\n",
       "180.0     43\n",
       "480.0     14\n",
       "300.0     10\n",
       "120.0      3\n",
       "240.0      3\n",
       "84.0       3\n",
       "60.0       2\n",
       "36.0       2\n",
       "Name: loan_amount_term, dtype: int64"
      ]
     },
     "execution_count": 75,
     "metadata": {},
     "output_type": "execute_result"
    }
   ],
   "source": [
    "warnings.filterwarnings('ignore')\n",
    "\n",
    "df['loan_amount_term'] = df['loan_amount_term'].fillna(360.0)\n",
    "\n",
    "warnings.filterwarnings('default')\n",
    "\n",
    "display(df['loan_amount_term'].isna().sum())\n",
    "display(df['loan_amount_term'].describe())\n",
    "df['loan_amount_term'].value_counts()"
   ]
  },
  {
   "cell_type": "markdown",
   "id": "628953cb",
   "metadata": {},
   "source": [
    "####  'loanamount'\n",
    "* filling in Nans with the median value"
   ]
  },
  {
   "cell_type": "code",
   "execution_count": 76,
   "id": "c0b37735",
   "metadata": {},
   "outputs": [
    {
     "data": {
      "text/plain": [
       "0"
      ]
     },
     "metadata": {},
     "output_type": "display_data"
    },
    {
     "data": {
      "text/plain": [
       "count    564.000000\n",
       "mean     144.414894\n",
       "std       81.812775\n",
       "min        9.000000\n",
       "25%      101.750000\n",
       "50%      127.000000\n",
       "75%      162.000000\n",
       "max      700.000000\n",
       "Name: loanamount, dtype: float64"
      ]
     },
     "execution_count": 76,
     "metadata": {},
     "output_type": "execute_result"
    }
   ],
   "source": [
    "warnings.filterwarnings('ignore')\n",
    "\n",
    "df['loanamount'] = df['loanamount'].fillna(df['loanamount'].median())\n",
    "\n",
    "warnings.filterwarnings('default')\n",
    "\n",
    "display(df['loanamount'].isna().sum())\n",
    "df['loanamount'].describe()"
   ]
  },
  {
   "cell_type": "code",
   "execution_count": 77,
   "id": "16658883",
   "metadata": {},
   "outputs": [
    {
     "data": {
      "text/plain": [
       "dependents             int32\n",
       "applicantincome        int64\n",
       "coapplicantincome    float64\n",
       "loanamount           float64\n",
       "loan_amount_term     float64\n",
       "credit_history       float64\n",
       "dtype: object"
      ]
     },
     "execution_count": 77,
     "metadata": {},
     "output_type": "execute_result"
    }
   ],
   "source": [
    "df.select_dtypes('number').dtypes"
   ]
  },
  {
   "cell_type": "markdown",
   "id": "47bf198f",
   "metadata": {},
   "source": [
    "#### converting discrete columns 'loan_amount_term' and 'credit_history' to int type"
   ]
  },
  {
   "cell_type": "code",
   "execution_count": 78,
   "id": "8571b7d6",
   "metadata": {},
   "outputs": [
    {
     "data": {
      "text/plain": [
       "0      360\n",
       "1      360\n",
       "2      360\n",
       "3      360\n",
       "4      360\n",
       "      ... \n",
       "609    360\n",
       "610    180\n",
       "611    360\n",
       "612    360\n",
       "613    360\n",
       "Name: loan_amount_term, Length: 564, dtype: int32"
      ]
     },
     "metadata": {},
     "output_type": "display_data"
    },
    {
     "data": {
      "text/plain": [
       "0      1\n",
       "1      1\n",
       "2      1\n",
       "3      1\n",
       "4      1\n",
       "      ..\n",
       "609    1\n",
       "610    1\n",
       "611    1\n",
       "612    1\n",
       "613    0\n",
       "Name: credit_history, Length: 564, dtype: int32"
      ]
     },
     "execution_count": 78,
     "metadata": {},
     "output_type": "execute_result"
    }
   ],
   "source": [
    "warnings.filterwarnings('ignore')\n",
    "\n",
    "df['loan_amount_term'] = df['loan_amount_term'].astype(int)\n",
    "df['credit_history'] = df['credit_history'].astype(int)\n",
    "\n",
    "warnings.filterwarnings('default')\n",
    "\n",
    "display(df['loan_amount_term'])\n",
    "df['credit_history']"
   ]
  },
  {
   "cell_type": "code",
   "execution_count": 79,
   "id": "be98f2ae",
   "metadata": {},
   "outputs": [
    {
     "data": {
      "text/plain": [
       "gender               0\n",
       "married              0\n",
       "dependents           0\n",
       "education            0\n",
       "self_employed        0\n",
       "applicantincome      0\n",
       "coapplicantincome    0\n",
       "loanamount           0\n",
       "loan_amount_term     0\n",
       "credit_history       0\n",
       "property_area        0\n",
       "loan_status          0\n",
       "dtype: int64"
      ]
     },
     "execution_count": 79,
     "metadata": {},
     "output_type": "execute_result"
    }
   ],
   "source": [
    "df.isna().sum()"
   ]
  },
  {
   "cell_type": "markdown",
   "id": "8da77c21",
   "metadata": {},
   "source": [
    "# II. Visualizations, Data Processing"
   ]
  },
  {
   "cell_type": "markdown",
   "id": "5fd7d496",
   "metadata": {},
   "source": [
    "## a. Visualizing and analyzing numerical columns"
   ]
  },
  {
   "cell_type": "code",
   "execution_count": 80,
   "id": "2c6f4aa3",
   "metadata": {
    "scrolled": true
   },
   "outputs": [
    {
     "data": {
      "image/png": "[encoded data removed]",
      "text/plain": [
       "<Figure size 640x480 with 1 Axes>"
      ]
     },
     "metadata": {},
     "output_type": "display_data"
    },
    {
     "data": {
      "image/png": "[encoded data removed]",
      "text/plain": [
       "<Figure size 640x480 with 1 Axes>"
      ]
     },
     "metadata": {},
     "output_type": "display_data"
    },
    {
     "data": {
      "image/png": "[encoded data removed]",
      "text/plain": [
       "<Figure size 640x480 with 1 Axes>"
      ]
     },
     "metadata": {},
     "output_type": "display_data"
    },
    {
     "data": {
      "image/png": "[encoded data removed]",
      "text/plain": [
       "<Figure size 640x480 with 1 Axes>"
      ]
     },
     "metadata": {},
     "output_type": "display_data"
    },
    {
     "data": {
      "image/png": "[encoded data removed]",
      "text/plain": [
       "<Figure size 640x480 with 1 Axes>"
      ]
     },
     "metadata": {},
     "output_type": "display_data"
    },
    {
     "data": {
      "image/png": "[encoded data removed]",
      "text/plain": [
       "<Figure size 640x480 with 1 Axes>"
      ]
     },
     "metadata": {},
     "output_type": "display_data"
    }
   ],
   "source": [
    "num_cols = df.select_dtypes('number')\n",
    "for col in num_cols.columns:\n",
    "  sns.histplot(num_cols[col], kde=True)\n",
    "  plt.show()"
   ]
  },
  {
   "cell_type": "markdown",
   "id": "952908a6",
   "metadata": {},
   "source": [
    "### As seen above:\n",
    "#### 'loanamount', 'applicantincome':\n",
    "* non-discrete values, follow a normal distribution, with a skew to the positive side, which makes sense when dealing with monetary values.\n",
    "#### 'coapplicantincome':\n",
    "* also non-discrete values, positively skewed normal distribution, with a large spike at 0, which represents that fact that not all entries have a coapplicant\n",
    "#### 'dependents' and 'loan_amount_term':\n",
    "* Discrete columns, even with a small number of possible values still resemble a normal distribution"
   ]
  },
  {
   "cell_type": "code",
   "execution_count": 81,
   "id": "0ea188a7",
   "metadata": {
    "scrolled": true
   },
   "outputs": [
    {
     "data": {
      "image/png": "[encoded data removed]",
      "text/plain": [
       "<Figure size 640x480 with 1 Axes>"
      ]
     },
     "metadata": {},
     "output_type": "display_data"
    },
    {
     "data": {
      "image/png": "[encoded data removed]",
      "text/plain": [
       "<Figure size 640x480 with 1 Axes>"
      ]
     },
     "metadata": {},
     "output_type": "display_data"
    },
    {
     "data": {
      "image/png": "[encoded data removed]",
      "text/plain": [
       "<Figure size 640x480 with 1 Axes>"
      ]
     },
     "metadata": {},
     "output_type": "display_data"
    }
   ],
   "source": [
    "sns.boxplot(x=df['applicantincome'])\n",
    "plt.show()\n",
    "sns.boxplot(x=df['coapplicantincome'])\n",
    "plt.show()\n",
    "sns.boxplot(x=df['loanamount'])\n",
    "plt.show()"
   ]
  },
  {
   "cell_type": "markdown",
   "id": "405095db",
   "metadata": {},
   "source": [
    "### As seen above:\n",
    "#### 'loanamount', 'applicantincome' and 'coapplicantincome':\n",
    "* continuous columns have a significant presence of outliers on the positive side"
   ]
  },
  {
   "cell_type": "code",
   "execution_count": 82,
   "id": "e54e26a6",
   "metadata": {
    "scrolled": false
   },
   "outputs": [
    {
     "data": {
      "image/png": "[encoded data removed]",
      "text/plain": [
       "<Figure size 640x480 with 1 Axes>"
      ]
     },
     "metadata": {},
     "output_type": "display_data"
    },
    {
     "data": {
      "image/png": "[encoded data removed]",
      "text/plain": [
       "<Figure size 640x480 with 1 Axes>"
      ]
     },
     "metadata": {},
     "output_type": "display_data"
    },
    {
     "data": {
      "image/png": "[encoded data removed]",
      "text/plain": [
       "<Figure size 640x480 with 1 Axes>"
      ]
     },
     "metadata": {},
     "output_type": "display_data"
    }
   ],
   "source": [
    "warnings.filterwarnings('ignore')\n",
    "\n",
    "df['applicantincome'] = df['applicantincome'][(np.abs(stats.zscore(df['applicantincome'])) < 3)]\n",
    "df['coapplicantincome'] = df['coapplicantincome'][(np.abs(stats.zscore(df['coapplicantincome'])) < 3)]\n",
    "df['loanamount'] = df['loanamount'][(np.abs(stats.zscore(df['loanamount'])) < 3)]\n",
    "\n",
    "warnings.filterwarnings('default')\n",
    "\n",
    "sns.boxplot(x=df['applicantincome'])\n",
    "plt.show()\n",
    "sns.boxplot(x=df['coapplicantincome'])\n",
    "plt.show()\n",
    "sns.boxplot(x=df['loanamount'])\n",
    "plt.show()"
   ]
  },
  {
   "cell_type": "code",
   "execution_count": 83,
   "id": "7251c705",
   "metadata": {},
   "outputs": [
    {
     "data": {
      "text/plain": [
       "gender                0\n",
       "married               0\n",
       "dependents            0\n",
       "education             0\n",
       "self_employed         0\n",
       "applicantincome       7\n",
       "coapplicantincome     6\n",
       "loanamount           13\n",
       "loan_amount_term      0\n",
       "credit_history        0\n",
       "property_area         0\n",
       "loan_status           0\n",
       "dtype: int64"
      ]
     },
     "execution_count": 83,
     "metadata": {},
     "output_type": "execute_result"
    }
   ],
   "source": [
    "df.isna().sum()"
   ]
  },
  {
   "cell_type": "code",
   "execution_count": 84,
   "id": "5a379a4c",
   "metadata": {},
   "outputs": [
    {
     "data": {
      "text/plain": [
       "gender               0\n",
       "married              0\n",
       "dependents           0\n",
       "education            0\n",
       "self_employed        0\n",
       "applicantincome      0\n",
       "coapplicantincome    0\n",
       "loanamount           0\n",
       "loan_amount_term     0\n",
       "credit_history       0\n",
       "property_area        0\n",
       "loan_status          0\n",
       "dtype: int64"
      ]
     },
     "execution_count": 84,
     "metadata": {},
     "output_type": "execute_result"
    }
   ],
   "source": [
    "df = df[df['loanamount'].notnull()]\n",
    "df = df[df['coapplicantincome'].notnull()]\n",
    "df = df[df['applicantincome'].notnull()]\n",
    "df.isna().sum()"
   ]
  },
  {
   "cell_type": "code",
   "execution_count": 85,
   "id": "313cc0a2",
   "metadata": {},
   "outputs": [
    {
     "data": {
      "text/html": [
       "<div>\n",
       "<style scoped>\n",
       "    .dataframe tbody tr th:only-of-type {\n",
       "        vertical-align: middle;\n",
       "    }\n",
       "\n",
       "    .dataframe tbody tr th {\n",
       "        vertical-align: top;\n",
       "    }\n",
       "\n",
       "    .dataframe thead th {\n",
       "        text-align: right;\n",
       "    }\n",
       "</style>\n",
       "<table border=\"1\" class=\"dataframe\">\n",
       "  <thead>\n",
       "    <tr style=\"text-align: right;\">\n",
       "      <th></th>\n",
       "      <th>dependents</th>\n",
       "      <th>applicantincome</th>\n",
       "      <th>coapplicantincome</th>\n",
       "      <th>loanamount</th>\n",
       "      <th>loan_amount_term</th>\n",
       "      <th>credit_history</th>\n",
       "    </tr>\n",
       "  </thead>\n",
       "  <tbody>\n",
       "    <tr>\n",
       "      <th>dependents</th>\n",
       "      <td>1.000000</td>\n",
       "      <td>0.129492</td>\n",
       "      <td>-0.011969</td>\n",
       "      <td>0.183805</td>\n",
       "      <td>-0.094818</td>\n",
       "      <td>-0.038702</td>\n",
       "    </tr>\n",
       "    <tr>\n",
       "      <th>applicantincome</th>\n",
       "      <td>0.129492</td>\n",
       "      <td>1.000000</td>\n",
       "      <td>-0.126174</td>\n",
       "      <td>0.564557</td>\n",
       "      <td>-0.061693</td>\n",
       "      <td>-0.014715</td>\n",
       "    </tr>\n",
       "    <tr>\n",
       "      <th>coapplicantincome</th>\n",
       "      <td>-0.011969</td>\n",
       "      <td>-0.126174</td>\n",
       "      <td>1.000000</td>\n",
       "      <td>0.159159</td>\n",
       "      <td>-0.000967</td>\n",
       "      <td>-0.002056</td>\n",
       "    </tr>\n",
       "    <tr>\n",
       "      <th>loanamount</th>\n",
       "      <td>0.183805</td>\n",
       "      <td>0.564557</td>\n",
       "      <td>0.159159</td>\n",
       "      <td>1.000000</td>\n",
       "      <td>0.021043</td>\n",
       "      <td>-0.007502</td>\n",
       "    </tr>\n",
       "    <tr>\n",
       "      <th>loan_amount_term</th>\n",
       "      <td>-0.094818</td>\n",
       "      <td>-0.061693</td>\n",
       "      <td>-0.000967</td>\n",
       "      <td>0.021043</td>\n",
       "      <td>1.000000</td>\n",
       "      <td>-0.003735</td>\n",
       "    </tr>\n",
       "    <tr>\n",
       "      <th>credit_history</th>\n",
       "      <td>-0.038702</td>\n",
       "      <td>-0.014715</td>\n",
       "      <td>-0.002056</td>\n",
       "      <td>-0.007502</td>\n",
       "      <td>-0.003735</td>\n",
       "      <td>1.000000</td>\n",
       "    </tr>\n",
       "  </tbody>\n",
       "</table>\n",
       "</div>"
      ],
      "text/plain": [
       "                   dependents  applicantincome  coapplicantincome  loanamount  \\\n",
       "dependents           1.000000         0.129492          -0.011969    0.183805   \n",
       "applicantincome      0.129492         1.000000          -0.126174    0.564557   \n",
       "coapplicantincome   -0.011969        -0.126174           1.000000    0.159159   \n",
       "loanamount           0.183805         0.564557           0.159159    1.000000   \n",
       "loan_amount_term    -0.094818        -0.061693          -0.000967    0.021043   \n",
       "credit_history      -0.038702        -0.014715          -0.002056   -0.007502   \n",
       "\n",
       "                   loan_amount_term  credit_history  \n",
       "dependents                -0.094818       -0.038702  \n",
       "applicantincome           -0.061693       -0.014715  \n",
       "coapplicantincome         -0.000967       -0.002056  \n",
       "loanamount                 0.021043       -0.007502  \n",
       "loan_amount_term           1.000000       -0.003735  \n",
       "credit_history            -0.003735        1.000000  "
      ]
     },
     "metadata": {},
     "output_type": "display_data"
    },
    {
     "data": {
      "image/png": "[encoded data removed]",
      "text/plain": [
       "<Figure size 800x600 with 2 Axes>"
      ]
     },
     "metadata": {},
     "output_type": "display_data"
    }
   ],
   "source": [
    "corr_matrix = num_cols.corr()\n",
    "display(corr_matrix)\n",
    "\n",
    "mask = np.zeros_like(corr_matrix)\n",
    "mask[np.triu_indices_from(mask)] = True\n",
    "\n",
    "fig, ax = plt.subplots(figsize=(8, 6))\n",
    "ax = sns.heatmap(corr_matrix, mask=mask, annot=True)\n",
    "plt.show()"
   ]
  },
  {
   "cell_type": "markdown",
   "id": "13058120",
   "metadata": {},
   "source": [
    "### As seen above:\n",
    "#### No features show any high level of correlation amongst themselves:\n",
    "* highest value of 0.56 of 'applicantincome'/'loanamount' shows some correlation but not considered high.\n",
    "    * shows that the amount loaned to the applicant somewhat takes into account their level of income\n",
    "* \n",
    "* followed by 'coapplicantincome'/'loanamount' with 0.16 and 'dependents'/'loanamount' with 0.18 showing a very small degree of correlation"
   ]
  },
  {
   "cell_type": "markdown",
   "id": "7764a0e0",
   "metadata": {},
   "source": [
    "## b. Checking relationships between numerical features and categorical target"
   ]
  },
  {
   "cell_type": "code",
   "execution_count": 86,
   "id": "8125e6ea",
   "metadata": {},
   "outputs": [
    {
     "data": {
      "image/png": "[encoded data removed]",
      "text/plain": [
       "<Figure size 640x480 with 1 Axes>"
      ]
     },
     "metadata": {},
     "output_type": "display_data"
    },
    {
     "data": {
      "image/png": "[encoded data removed]",
      "text/plain": [
       "<Figure size 640x480 with 1 Axes>"
      ]
     },
     "metadata": {},
     "output_type": "display_data"
    },
    {
     "data": {
      "image/png": "[encoded data removed]",
      "text/plain": [
       "<Figure size 640x480 with 1 Axes>"
      ]
     },
     "metadata": {},
     "output_type": "display_data"
    },
    {
     "data": {
      "image/png": "[encoded data removed]",
      "text/plain": [
       "<Figure size 640x480 with 1 Axes>"
      ]
     },
     "metadata": {},
     "output_type": "display_data"
    },
    {
     "data": {
      "image/png": "[encoded data removed]",
      "text/plain": [
       "<Figure size 640x480 with 1 Axes>"
      ]
     },
     "metadata": {},
     "output_type": "display_data"
    },
    {
     "data": {
      "image/png": "[encoded data removed]",
      "text/plain": [
       "<Figure size 640x480 with 1 Axes>"
      ]
     },
     "metadata": {},
     "output_type": "display_data"
    }
   ],
   "source": [
    "for col in num_cols.columns:\n",
    "  sns.barplot(data=df, x='loan_status', y=col)\n",
    "  plt.show()"
   ]
  },
  {
   "cell_type": "markdown",
   "id": "9f988d34",
   "metadata": {},
   "source": [
    "### As seen above:\n",
    "#### 'dependents', 'applicantincome' and 'loan_amount':\n",
    "* Pratically 50/50 split with the target's values 'Y/N'.\n",
    "#### 'coapplicantincome':\n",
    "* Tends slighty towards 'N' but no useful insight to be taken.\n",
    "#### 'credit_history':\n",
    "* Large tendency towards 'Y', indicating there is some correlation between the applicant having a credit history and getting the approval on the loan."
   ]
  },
  {
   "cell_type": "markdown",
   "id": "809aeb78",
   "metadata": {},
   "source": [
    "## c. Visualizing categorical features"
   ]
  },
  {
   "cell_type": "code",
   "execution_count": 87,
   "id": "dd331d8b",
   "metadata": {},
   "outputs": [
    {
     "data": {
      "image/png": "[encoded data removed]",
      "text/plain": [
       "<Figure size 640x480 with 1 Axes>"
      ]
     },
     "metadata": {},
     "output_type": "display_data"
    },
    {
     "name": "stdout",
     "output_type": "stream",
     "text": [
      "1    457\n",
      "0     85\n",
      "Name: credit_history, dtype: int64\n",
      "_________________________________________________________________________________ \n",
      "\n"
     ]
    },
    {
     "data": {
      "image/png": "[encoded data removed]",
      "text/plain": [
       "<Figure size 640x480 with 1 Axes>"
      ]
     },
     "metadata": {},
     "output_type": "display_data"
    },
    {
     "name": "stdout",
     "output_type": "stream",
     "text": [
      "Male      444\n",
      "Female     98\n",
      "Name: gender, dtype: int64\n",
      "_________________________________________________________________________________ \n",
      "\n"
     ]
    },
    {
     "data": {
      "image/png": "[encoded data removed]",
      "text/plain": [
       "<Figure size 640x480 with 1 Axes>"
      ]
     },
     "metadata": {},
     "output_type": "display_data"
    },
    {
     "name": "stdout",
     "output_type": "stream",
     "text": [
      "Yes    349\n",
      "No     193\n",
      "Name: married, dtype: int64\n",
      "_________________________________________________________________________________ \n",
      "\n"
     ]
    },
    {
     "data": {
      "image/png": "[encoded data removed]",
      "text/plain": [
       "<Figure size 640x480 with 1 Axes>"
      ]
     },
     "metadata": {},
     "output_type": "display_data"
    },
    {
     "name": "stdout",
     "output_type": "stream",
     "text": [
      "Graduate        421\n",
      "Not Graduate    121\n",
      "Name: education, dtype: int64\n",
      "_________________________________________________________________________________ \n",
      "\n"
     ]
    },
    {
     "data": {
      "image/png": "[encoded data removed]",
      "text/plain": [
       "<Figure size 640x480 with 1 Axes>"
      ]
     },
     "metadata": {},
     "output_type": "display_data"
    },
    {
     "name": "stdout",
     "output_type": "stream",
     "text": [
      "No     472\n",
      "Yes     70\n",
      "Name: self_employed, dtype: int64\n",
      "_________________________________________________________________________________ \n",
      "\n"
     ]
    },
    {
     "data": {
      "image/png": "[encoded data removed]",
      "text/plain": [
       "<Figure size 640x480 with 1 Axes>"
      ]
     },
     "metadata": {},
     "output_type": "display_data"
    },
    {
     "name": "stdout",
     "output_type": "stream",
     "text": [
      "Semiurban    205\n",
      "Urban        177\n",
      "Rural        160\n",
      "Name: property_area, dtype: int64\n",
      "_________________________________________________________________________________ \n",
      "\n"
     ]
    },
    {
     "data": {
      "image/png": "[encoded data removed]",
      "text/plain": [
       "<Figure size 640x480 with 1 Axes>"
      ]
     },
     "metadata": {},
     "output_type": "display_data"
    },
    {
     "name": "stdout",
     "output_type": "stream",
     "text": [
      "Y    372\n",
      "N    170\n",
      "Name: loan_status, dtype: int64\n",
      "_________________________________________________________________________________ \n",
      "\n"
     ]
    }
   ],
   "source": [
    "#including credit_history - column is numerical but values are binary\n",
    "sns.countplot(x = 'credit_history', hue = 'loan_status', data = df)\n",
    "plt.show()\n",
    "print(df['credit_history'].value_counts())\n",
    "print('_________________________________________________________________________________', '\\n')\n",
    "\n",
    "for col in df.select_dtypes('object').columns:\n",
    "    sns.countplot(x = col, hue = 'loan_status', data = df)\n",
    "    plt.show()\n",
    "    print(df[col].value_counts())\n",
    "    print('_________________________________________________________________________________', '\\n')"
   ]
  },
  {
   "cell_type": "markdown",
   "id": "6ec7d93a",
   "metadata": {},
   "source": [
    "### As seen above\n",
    "#### Analyzing applicant distribution:\n",
    "* By a large ratio, most applicants are male, have a credit history, are graduates and not self-employed\n",
    "* 2:1 applicants are married\n",
    "* Applicants are mostly equaly distributed by property area\n",
    "* target - 2:1 applicants get approved for the loan"
   ]
  },
  {
   "cell_type": "markdown",
   "id": "8e52374f",
   "metadata": {},
   "source": [
    "## d. Creating a contingency table to analyze categorical features against the target"
   ]
  },
  {
   "cell_type": "code",
   "execution_count": 88,
   "id": "be1021b2",
   "metadata": {
    "scrolled": true
   },
   "outputs": [
    {
     "data": {
      "text/html": [
       "<div>\n",
       "<style scoped>\n",
       "    .dataframe tbody tr th:only-of-type {\n",
       "        vertical-align: middle;\n",
       "    }\n",
       "\n",
       "    .dataframe tbody tr th {\n",
       "        vertical-align: top;\n",
       "    }\n",
       "\n",
       "    .dataframe thead th {\n",
       "        text-align: right;\n",
       "    }\n",
       "</style>\n",
       "<table border=\"1\" class=\"dataframe\">\n",
       "  <thead>\n",
       "    <tr style=\"text-align: right;\">\n",
       "      <th>loan_status</th>\n",
       "      <th>N</th>\n",
       "      <th>Y</th>\n",
       "      <th>Y%</th>\n",
       "    </tr>\n",
       "    <tr>\n",
       "      <th>gender</th>\n",
       "      <th></th>\n",
       "      <th></th>\n",
       "      <th></th>\n",
       "    </tr>\n",
       "  </thead>\n",
       "  <tbody>\n",
       "    <tr>\n",
       "      <th>Female</th>\n",
       "      <td>36.0</td>\n",
       "      <td>62.0</td>\n",
       "      <td>63.3</td>\n",
       "    </tr>\n",
       "    <tr>\n",
       "      <th>Male</th>\n",
       "      <td>134.0</td>\n",
       "      <td>310.0</td>\n",
       "      <td>69.8</td>\n",
       "    </tr>\n",
       "    <tr>\n",
       "      <th>_%</th>\n",
       "      <td>21.2</td>\n",
       "      <td>16.7</td>\n",
       "      <td>0.0</td>\n",
       "    </tr>\n",
       "  </tbody>\n",
       "</table>\n",
       "</div>"
      ],
      "text/plain": [
       "loan_status      N      Y    Y%\n",
       "gender                         \n",
       "Female        36.0   62.0  63.3\n",
       "Male         134.0  310.0  69.8\n",
       "_%            21.2   16.7   0.0"
      ]
     },
     "metadata": {},
     "output_type": "display_data"
    },
    {
     "data": {
      "text/html": [
       "<div>\n",
       "<style scoped>\n",
       "    .dataframe tbody tr th:only-of-type {\n",
       "        vertical-align: middle;\n",
       "    }\n",
       "\n",
       "    .dataframe tbody tr th {\n",
       "        vertical-align: top;\n",
       "    }\n",
       "\n",
       "    .dataframe thead th {\n",
       "        text-align: right;\n",
       "    }\n",
       "</style>\n",
       "<table border=\"1\" class=\"dataframe\">\n",
       "  <thead>\n",
       "    <tr style=\"text-align: right;\">\n",
       "      <th>loan_status</th>\n",
       "      <th>N</th>\n",
       "      <th>Y</th>\n",
       "      <th>Y%</th>\n",
       "    </tr>\n",
       "    <tr>\n",
       "      <th>married</th>\n",
       "      <th></th>\n",
       "      <th></th>\n",
       "      <th></th>\n",
       "    </tr>\n",
       "  </thead>\n",
       "  <tbody>\n",
       "    <tr>\n",
       "      <th>No</th>\n",
       "      <td>72.0</td>\n",
       "      <td>121.0</td>\n",
       "      <td>62.7</td>\n",
       "    </tr>\n",
       "    <tr>\n",
       "      <th>Yes</th>\n",
       "      <td>98.0</td>\n",
       "      <td>251.0</td>\n",
       "      <td>71.9</td>\n",
       "    </tr>\n",
       "    <tr>\n",
       "      <th>_%</th>\n",
       "      <td>42.4</td>\n",
       "      <td>32.5</td>\n",
       "      <td>0.0</td>\n",
       "    </tr>\n",
       "  </tbody>\n",
       "</table>\n",
       "</div>"
      ],
      "text/plain": [
       "loan_status     N      Y    Y%\n",
       "married                       \n",
       "No           72.0  121.0  62.7\n",
       "Yes          98.0  251.0  71.9\n",
       "_%           42.4   32.5   0.0"
      ]
     },
     "metadata": {},
     "output_type": "display_data"
    },
    {
     "data": {
      "text/html": [
       "<div>\n",
       "<style scoped>\n",
       "    .dataframe tbody tr th:only-of-type {\n",
       "        vertical-align: middle;\n",
       "    }\n",
       "\n",
       "    .dataframe tbody tr th {\n",
       "        vertical-align: top;\n",
       "    }\n",
       "\n",
       "    .dataframe thead th {\n",
       "        text-align: right;\n",
       "    }\n",
       "</style>\n",
       "<table border=\"1\" class=\"dataframe\">\n",
       "  <thead>\n",
       "    <tr style=\"text-align: right;\">\n",
       "      <th>loan_status</th>\n",
       "      <th>N</th>\n",
       "      <th>Y</th>\n",
       "      <th>Y%</th>\n",
       "    </tr>\n",
       "    <tr>\n",
       "      <th>education</th>\n",
       "      <th></th>\n",
       "      <th></th>\n",
       "      <th></th>\n",
       "    </tr>\n",
       "  </thead>\n",
       "  <tbody>\n",
       "    <tr>\n",
       "      <th>Graduate</th>\n",
       "      <td>121.0</td>\n",
       "      <td>300.0</td>\n",
       "      <td>71.3</td>\n",
       "    </tr>\n",
       "    <tr>\n",
       "      <th>Not Graduate</th>\n",
       "      <td>49.0</td>\n",
       "      <td>72.0</td>\n",
       "      <td>59.5</td>\n",
       "    </tr>\n",
       "    <tr>\n",
       "      <th>_%</th>\n",
       "      <td>71.2</td>\n",
       "      <td>80.6</td>\n",
       "      <td>0.0</td>\n",
       "    </tr>\n",
       "  </tbody>\n",
       "</table>\n",
       "</div>"
      ],
      "text/plain": [
       "loan_status       N      Y    Y%\n",
       "education                       \n",
       "Graduate      121.0  300.0  71.3\n",
       "Not Graduate   49.0   72.0  59.5\n",
       "_%             71.2   80.6   0.0"
      ]
     },
     "metadata": {},
     "output_type": "display_data"
    },
    {
     "data": {
      "text/html": [
       "<div>\n",
       "<style scoped>\n",
       "    .dataframe tbody tr th:only-of-type {\n",
       "        vertical-align: middle;\n",
       "    }\n",
       "\n",
       "    .dataframe tbody tr th {\n",
       "        vertical-align: top;\n",
       "    }\n",
       "\n",
       "    .dataframe thead th {\n",
       "        text-align: right;\n",
       "    }\n",
       "</style>\n",
       "<table border=\"1\" class=\"dataframe\">\n",
       "  <thead>\n",
       "    <tr style=\"text-align: right;\">\n",
       "      <th>loan_status</th>\n",
       "      <th>N</th>\n",
       "      <th>Y</th>\n",
       "      <th>Y%</th>\n",
       "    </tr>\n",
       "    <tr>\n",
       "      <th>self_employed</th>\n",
       "      <th></th>\n",
       "      <th></th>\n",
       "      <th></th>\n",
       "    </tr>\n",
       "  </thead>\n",
       "  <tbody>\n",
       "    <tr>\n",
       "      <th>No</th>\n",
       "      <td>146.0</td>\n",
       "      <td>326.0</td>\n",
       "      <td>69.1</td>\n",
       "    </tr>\n",
       "    <tr>\n",
       "      <th>Yes</th>\n",
       "      <td>24.0</td>\n",
       "      <td>46.0</td>\n",
       "      <td>65.7</td>\n",
       "    </tr>\n",
       "    <tr>\n",
       "      <th>_%</th>\n",
       "      <td>85.9</td>\n",
       "      <td>87.6</td>\n",
       "      <td>0.0</td>\n",
       "    </tr>\n",
       "  </tbody>\n",
       "</table>\n",
       "</div>"
      ],
      "text/plain": [
       "loan_status        N      Y    Y%\n",
       "self_employed                    \n",
       "No             146.0  326.0  69.1\n",
       "Yes             24.0   46.0  65.7\n",
       "_%              85.9   87.6   0.0"
      ]
     },
     "metadata": {},
     "output_type": "display_data"
    },
    {
     "data": {
      "text/html": [
       "<div>\n",
       "<style scoped>\n",
       "    .dataframe tbody tr th:only-of-type {\n",
       "        vertical-align: middle;\n",
       "    }\n",
       "\n",
       "    .dataframe tbody tr th {\n",
       "        vertical-align: top;\n",
       "    }\n",
       "\n",
       "    .dataframe thead th {\n",
       "        text-align: right;\n",
       "    }\n",
       "</style>\n",
       "<table border=\"1\" class=\"dataframe\">\n",
       "  <thead>\n",
       "    <tr style=\"text-align: right;\">\n",
       "      <th>loan_status</th>\n",
       "      <th>N</th>\n",
       "      <th>Y</th>\n",
       "      <th>Y%</th>\n",
       "    </tr>\n",
       "    <tr>\n",
       "      <th>property_area</th>\n",
       "      <th></th>\n",
       "      <th></th>\n",
       "      <th></th>\n",
       "    </tr>\n",
       "  </thead>\n",
       "  <tbody>\n",
       "    <tr>\n",
       "      <th>Rural</th>\n",
       "      <td>62.0</td>\n",
       "      <td>98.0</td>\n",
       "      <td>61.3</td>\n",
       "    </tr>\n",
       "    <tr>\n",
       "      <th>Semiurban</th>\n",
       "      <td>46.0</td>\n",
       "      <td>159.0</td>\n",
       "      <td>77.6</td>\n",
       "    </tr>\n",
       "    <tr>\n",
       "      <th>Urban</th>\n",
       "      <td>62.0</td>\n",
       "      <td>115.0</td>\n",
       "      <td>65.0</td>\n",
       "    </tr>\n",
       "    <tr>\n",
       "      <th>_%</th>\n",
       "      <td>36.5</td>\n",
       "      <td>26.3</td>\n",
       "      <td>0.0</td>\n",
       "    </tr>\n",
       "  </tbody>\n",
       "</table>\n",
       "</div>"
      ],
      "text/plain": [
       "loan_status       N      Y    Y%\n",
       "property_area                   \n",
       "Rural          62.0   98.0  61.3\n",
       "Semiurban      46.0  159.0  77.6\n",
       "Urban          62.0  115.0  65.0\n",
       "_%             36.5   26.3   0.0"
      ]
     },
     "metadata": {},
     "output_type": "display_data"
    },
    {
     "data": {
      "text/html": [
       "<div>\n",
       "<style scoped>\n",
       "    .dataframe tbody tr th:only-of-type {\n",
       "        vertical-align: middle;\n",
       "    }\n",
       "\n",
       "    .dataframe tbody tr th {\n",
       "        vertical-align: top;\n",
       "    }\n",
       "\n",
       "    .dataframe thead th {\n",
       "        text-align: right;\n",
       "    }\n",
       "</style>\n",
       "<table border=\"1\" class=\"dataframe\">\n",
       "  <thead>\n",
       "    <tr style=\"text-align: right;\">\n",
       "      <th>loan_status</th>\n",
       "      <th>N</th>\n",
       "      <th>Y</th>\n",
       "      <th>Y%</th>\n",
       "    </tr>\n",
       "    <tr>\n",
       "      <th>loan_status</th>\n",
       "      <th></th>\n",
       "      <th></th>\n",
       "      <th></th>\n",
       "    </tr>\n",
       "  </thead>\n",
       "  <tbody>\n",
       "    <tr>\n",
       "      <th>N</th>\n",
       "      <td>170</td>\n",
       "      <td>0</td>\n",
       "      <td>0.0</td>\n",
       "    </tr>\n",
       "    <tr>\n",
       "      <th>Y</th>\n",
       "      <td>0</td>\n",
       "      <td>372</td>\n",
       "      <td>100.0</td>\n",
       "    </tr>\n",
       "    <tr>\n",
       "      <th>_%</th>\n",
       "      <td>100</td>\n",
       "      <td>0</td>\n",
       "      <td>0.0</td>\n",
       "    </tr>\n",
       "  </tbody>\n",
       "</table>\n",
       "</div>"
      ],
      "text/plain": [
       "loan_status    N    Y     Y%\n",
       "loan_status                 \n",
       "N            170    0    0.0\n",
       "Y              0  372  100.0\n",
       "_%           100    0    0.0"
      ]
     },
     "metadata": {},
     "output_type": "display_data"
    }
   ],
   "source": [
    "warnings.filterwarnings('ignore')\n",
    "\n",
    "for col in df.select_dtypes('object'):\n",
    "    cont_table = pd.crosstab(df[col], df['loan_status']).copy()\n",
    "    \n",
    "    cont_table['Y%'] = round((cont_table['Y'] / cont_table.sum(axis=1))*100,1)\n",
    "    cont_table.loc['_%'] = 0\n",
    "    cont_table['Y'].loc['_%'] = round(cont_table['Y'][0] / cont_table['Y'].sum()*100,1)\n",
    "    cont_table['N'].loc['_%'] = round(cont_table['N'][0] / cont_table['N'].sum()*100,1)\n",
    "\n",
    "    display(cont_table)\n",
    "\n",
    "warnings.filterwarnings('default')"
   ]
  },
  {
   "cell_type": "markdown",
   "id": "de23e81c",
   "metadata": {},
   "source": [
    "### As seen above:\n",
    "#### In 'property_area':\n",
    "* Correlation between the area the property is in and the chance for loan approval\n",
    "    * Semiurban properties have a higher loan approval rate of 76.8% compared to urban and rural properties at 65.8% and 61% respectively\n",
    "#### In 'married' and 'education':\n",
    "* Small variance of ~10% in correlation between the applicant's marital status and the loan approval\n",
    "    * Married applicants at a higher rate of approval vs. not married\n",
    "* Small variance of ~10% in correlation between the applicant's level of education and the loan approval\n",
    "    * Graduate applicants at a higher rate of approval vs. non-graduates\n",
    "#### In 'gender' and 'self-employed':\n",
    "* Even or close to even distribution in the applicant's gender / type of employment and the loan approval"
   ]
  },
  {
   "cell_type": "markdown",
   "id": "189c7a99",
   "metadata": {},
   "source": [
    "# III. Preparing and applying first model"
   ]
  },
  {
   "cell_type": "markdown",
   "id": "f38b4a42",
   "metadata": {},
   "source": [
    "#### X/Y split"
   ]
  },
  {
   "cell_type": "code",
   "execution_count": 89,
   "id": "e1513d3a",
   "metadata": {},
   "outputs": [],
   "source": [
    "y = df['loan_status']\n",
    "X = df.drop('loan_status', axis=1)"
   ]
  },
  {
   "cell_type": "markdown",
   "id": "61f6d21f",
   "metadata": {},
   "source": [
    "## a. Enconding categorical columns to obtain numerical values for the model"
   ]
  },
  {
   "cell_type": "code",
   "execution_count": 90,
   "id": "c184ca50",
   "metadata": {},
   "outputs": [
    {
     "data": {
      "text/html": [
       "<div>\n",
       "<style scoped>\n",
       "    .dataframe tbody tr th:only-of-type {\n",
       "        vertical-align: middle;\n",
       "    }\n",
       "\n",
       "    .dataframe tbody tr th {\n",
       "        vertical-align: top;\n",
       "    }\n",
       "\n",
       "    .dataframe thead th {\n",
       "        text-align: right;\n",
       "    }\n",
       "</style>\n",
       "<table border=\"1\" class=\"dataframe\">\n",
       "  <thead>\n",
       "    <tr style=\"text-align: right;\">\n",
       "      <th></th>\n",
       "      <th>dependents</th>\n",
       "      <th>applicantincome</th>\n",
       "      <th>coapplicantincome</th>\n",
       "      <th>loanamount</th>\n",
       "      <th>loan_amount_term</th>\n",
       "      <th>credit_history</th>\n",
       "      <th>gender_Female</th>\n",
       "      <th>gender_Male</th>\n",
       "      <th>married_No</th>\n",
       "      <th>married_Yes</th>\n",
       "      <th>education_Graduate</th>\n",
       "      <th>education_Not Graduate</th>\n",
       "      <th>self_employed_No</th>\n",
       "      <th>self_employed_Yes</th>\n",
       "      <th>property_area_Rural</th>\n",
       "      <th>property_area_Semiurban</th>\n",
       "      <th>property_area_Urban</th>\n",
       "    </tr>\n",
       "  </thead>\n",
       "  <tbody>\n",
       "    <tr>\n",
       "      <th>0</th>\n",
       "      <td>0</td>\n",
       "      <td>5849.0</td>\n",
       "      <td>0.0</td>\n",
       "      <td>127.0</td>\n",
       "      <td>360</td>\n",
       "      <td>1</td>\n",
       "      <td>0</td>\n",
       "      <td>1</td>\n",
       "      <td>1</td>\n",
       "      <td>0</td>\n",
       "      <td>1</td>\n",
       "      <td>0</td>\n",
       "      <td>1</td>\n",
       "      <td>0</td>\n",
       "      <td>0</td>\n",
       "      <td>0</td>\n",
       "      <td>1</td>\n",
       "    </tr>\n",
       "    <tr>\n",
       "      <th>1</th>\n",
       "      <td>1</td>\n",
       "      <td>4583.0</td>\n",
       "      <td>1508.0</td>\n",
       "      <td>128.0</td>\n",
       "      <td>360</td>\n",
       "      <td>1</td>\n",
       "      <td>0</td>\n",
       "      <td>1</td>\n",
       "      <td>0</td>\n",
       "      <td>1</td>\n",
       "      <td>1</td>\n",
       "      <td>0</td>\n",
       "      <td>1</td>\n",
       "      <td>0</td>\n",
       "      <td>1</td>\n",
       "      <td>0</td>\n",
       "      <td>0</td>\n",
       "    </tr>\n",
       "    <tr>\n",
       "      <th>2</th>\n",
       "      <td>0</td>\n",
       "      <td>3000.0</td>\n",
       "      <td>0.0</td>\n",
       "      <td>66.0</td>\n",
       "      <td>360</td>\n",
       "      <td>1</td>\n",
       "      <td>0</td>\n",
       "      <td>1</td>\n",
       "      <td>0</td>\n",
       "      <td>1</td>\n",
       "      <td>1</td>\n",
       "      <td>0</td>\n",
       "      <td>0</td>\n",
       "      <td>1</td>\n",
       "      <td>0</td>\n",
       "      <td>0</td>\n",
       "      <td>1</td>\n",
       "    </tr>\n",
       "    <tr>\n",
       "      <th>3</th>\n",
       "      <td>0</td>\n",
       "      <td>2583.0</td>\n",
       "      <td>2358.0</td>\n",
       "      <td>120.0</td>\n",
       "      <td>360</td>\n",
       "      <td>1</td>\n",
       "      <td>0</td>\n",
       "      <td>1</td>\n",
       "      <td>0</td>\n",
       "      <td>1</td>\n",
       "      <td>0</td>\n",
       "      <td>1</td>\n",
       "      <td>1</td>\n",
       "      <td>0</td>\n",
       "      <td>0</td>\n",
       "      <td>0</td>\n",
       "      <td>1</td>\n",
       "    </tr>\n",
       "    <tr>\n",
       "      <th>4</th>\n",
       "      <td>0</td>\n",
       "      <td>6000.0</td>\n",
       "      <td>0.0</td>\n",
       "      <td>141.0</td>\n",
       "      <td>360</td>\n",
       "      <td>1</td>\n",
       "      <td>0</td>\n",
       "      <td>1</td>\n",
       "      <td>1</td>\n",
       "      <td>0</td>\n",
       "      <td>1</td>\n",
       "      <td>0</td>\n",
       "      <td>1</td>\n",
       "      <td>0</td>\n",
       "      <td>0</td>\n",
       "      <td>0</td>\n",
       "      <td>1</td>\n",
       "    </tr>\n",
       "    <tr>\n",
       "      <th>...</th>\n",
       "      <td>...</td>\n",
       "      <td>...</td>\n",
       "      <td>...</td>\n",
       "      <td>...</td>\n",
       "      <td>...</td>\n",
       "      <td>...</td>\n",
       "      <td>...</td>\n",
       "      <td>...</td>\n",
       "      <td>...</td>\n",
       "      <td>...</td>\n",
       "      <td>...</td>\n",
       "      <td>...</td>\n",
       "      <td>...</td>\n",
       "      <td>...</td>\n",
       "      <td>...</td>\n",
       "      <td>...</td>\n",
       "      <td>...</td>\n",
       "    </tr>\n",
       "    <tr>\n",
       "      <th>609</th>\n",
       "      <td>0</td>\n",
       "      <td>2900.0</td>\n",
       "      <td>0.0</td>\n",
       "      <td>71.0</td>\n",
       "      <td>360</td>\n",
       "      <td>1</td>\n",
       "      <td>1</td>\n",
       "      <td>0</td>\n",
       "      <td>1</td>\n",
       "      <td>0</td>\n",
       "      <td>1</td>\n",
       "      <td>0</td>\n",
       "      <td>1</td>\n",
       "      <td>0</td>\n",
       "      <td>1</td>\n",
       "      <td>0</td>\n",
       "      <td>0</td>\n",
       "    </tr>\n",
       "    <tr>\n",
       "      <th>610</th>\n",
       "      <td>3</td>\n",
       "      <td>4106.0</td>\n",
       "      <td>0.0</td>\n",
       "      <td>40.0</td>\n",
       "      <td>180</td>\n",
       "      <td>1</td>\n",
       "      <td>0</td>\n",
       "      <td>1</td>\n",
       "      <td>0</td>\n",
       "      <td>1</td>\n",
       "      <td>1</td>\n",
       "      <td>0</td>\n",
       "      <td>1</td>\n",
       "      <td>0</td>\n",
       "      <td>1</td>\n",
       "      <td>0</td>\n",
       "      <td>0</td>\n",
       "    </tr>\n",
       "    <tr>\n",
       "      <th>611</th>\n",
       "      <td>1</td>\n",
       "      <td>8072.0</td>\n",
       "      <td>240.0</td>\n",
       "      <td>253.0</td>\n",
       "      <td>360</td>\n",
       "      <td>1</td>\n",
       "      <td>0</td>\n",
       "      <td>1</td>\n",
       "      <td>0</td>\n",
       "      <td>1</td>\n",
       "      <td>1</td>\n",
       "      <td>0</td>\n",
       "      <td>1</td>\n",
       "      <td>0</td>\n",
       "      <td>0</td>\n",
       "      <td>0</td>\n",
       "      <td>1</td>\n",
       "    </tr>\n",
       "    <tr>\n",
       "      <th>612</th>\n",
       "      <td>2</td>\n",
       "      <td>7583.0</td>\n",
       "      <td>0.0</td>\n",
       "      <td>187.0</td>\n",
       "      <td>360</td>\n",
       "      <td>1</td>\n",
       "      <td>0</td>\n",
       "      <td>1</td>\n",
       "      <td>0</td>\n",
       "      <td>1</td>\n",
       "      <td>1</td>\n",
       "      <td>0</td>\n",
       "      <td>1</td>\n",
       "      <td>0</td>\n",
       "      <td>0</td>\n",
       "      <td>0</td>\n",
       "      <td>1</td>\n",
       "    </tr>\n",
       "    <tr>\n",
       "      <th>613</th>\n",
       "      <td>0</td>\n",
       "      <td>4583.0</td>\n",
       "      <td>0.0</td>\n",
       "      <td>133.0</td>\n",
       "      <td>360</td>\n",
       "      <td>0</td>\n",
       "      <td>1</td>\n",
       "      <td>0</td>\n",
       "      <td>1</td>\n",
       "      <td>0</td>\n",
       "      <td>1</td>\n",
       "      <td>0</td>\n",
       "      <td>0</td>\n",
       "      <td>1</td>\n",
       "      <td>0</td>\n",
       "      <td>1</td>\n",
       "      <td>0</td>\n",
       "    </tr>\n",
       "  </tbody>\n",
       "</table>\n",
       "<p>542 rows × 17 columns</p>\n",
       "</div>"
      ],
      "text/plain": [
       "     dependents  applicantincome  coapplicantincome  loanamount  \\\n",
       "0             0           5849.0                0.0       127.0   \n",
       "1             1           4583.0             1508.0       128.0   \n",
       "2             0           3000.0                0.0        66.0   \n",
       "3             0           2583.0             2358.0       120.0   \n",
       "4             0           6000.0                0.0       141.0   \n",
       "..          ...              ...                ...         ...   \n",
       "609           0           2900.0                0.0        71.0   \n",
       "610           3           4106.0                0.0        40.0   \n",
       "611           1           8072.0              240.0       253.0   \n",
       "612           2           7583.0                0.0       187.0   \n",
       "613           0           4583.0                0.0       133.0   \n",
       "\n",
       "     loan_amount_term  credit_history  gender_Female  gender_Male  married_No  \\\n",
       "0                 360               1              0            1           1   \n",
       "1                 360               1              0            1           0   \n",
       "2                 360               1              0            1           0   \n",
       "3                 360               1              0            1           0   \n",
       "4                 360               1              0            1           1   \n",
       "..                ...             ...            ...          ...         ...   \n",
       "609               360               1              1            0           1   \n",
       "610               180               1              0            1           0   \n",
       "611               360               1              0            1           0   \n",
       "612               360               1              0            1           0   \n",
       "613               360               0              1            0           1   \n",
       "\n",
       "     married_Yes  education_Graduate  education_Not Graduate  \\\n",
       "0              0                   1                       0   \n",
       "1              1                   1                       0   \n",
       "2              1                   1                       0   \n",
       "3              1                   0                       1   \n",
       "4              0                   1                       0   \n",
       "..           ...                 ...                     ...   \n",
       "609            0                   1                       0   \n",
       "610            1                   1                       0   \n",
       "611            1                   1                       0   \n",
       "612            1                   1                       0   \n",
       "613            0                   1                       0   \n",
       "\n",
       "     self_employed_No  self_employed_Yes  property_area_Rural  \\\n",
       "0                   1                  0                    0   \n",
       "1                   1                  0                    1   \n",
       "2                   0                  1                    0   \n",
       "3                   1                  0                    0   \n",
       "4                   1                  0                    0   \n",
       "..                ...                ...                  ...   \n",
       "609                 1                  0                    1   \n",
       "610                 1                  0                    1   \n",
       "611                 1                  0                    0   \n",
       "612                 1                  0                    0   \n",
       "613                 0                  1                    0   \n",
       "\n",
       "     property_area_Semiurban  property_area_Urban  \n",
       "0                          0                    1  \n",
       "1                          0                    0  \n",
       "2                          0                    1  \n",
       "3                          0                    1  \n",
       "4                          0                    1  \n",
       "..                       ...                  ...  \n",
       "609                        0                    0  \n",
       "610                        0                    0  \n",
       "611                        0                    1  \n",
       "612                        0                    1  \n",
       "613                        1                    0  \n",
       "\n",
       "[542 rows x 17 columns]"
      ]
     },
     "execution_count": 90,
     "metadata": {},
     "output_type": "execute_result"
    }
   ],
   "source": [
    "X = pd.get_dummies(X, columns=X.select_dtypes('object').columns.tolist())\n",
    "X"
   ]
  },
  {
   "cell_type": "markdown",
   "id": "39e12dbe",
   "metadata": {},
   "source": [
    "## b. Creating a correlation list of categorical features against the target"
   ]
  },
  {
   "cell_type": "code",
   "execution_count": 91,
   "id": "20ffa8b0",
   "metadata": {
    "scrolled": true
   },
   "outputs": [
    {
     "data": {
      "text/plain": [
       "loan_status_N             -1.000000\n",
       "education_Not Graduate    -0.105500\n",
       "property_area_Rural       -0.103006\n",
       "married_No                -0.095210\n",
       "property_area_Urban       -0.054976\n",
       "gender_Female             -0.054369\n",
       "self_employed_Yes         -0.024240\n",
       "loanamount                -0.015428\n",
       "loan_amount_term          -0.010101\n",
       "applicantincome            0.018094\n",
       "self_employed_No           0.024240\n",
       "dependents                 0.033316\n",
       "coapplicantincome          0.044744\n",
       "gender_Male                0.054369\n",
       "married_Yes                0.095210\n",
       "education_Graduate         0.105500\n",
       "property_area_Semiurban    0.150050\n",
       "credit_history             0.583290\n",
       "loan_status_Y              1.000000\n",
       "Name: loan_status_Y, dtype: float64"
      ]
     },
     "execution_count": 91,
     "metadata": {},
     "output_type": "execute_result"
    }
   ],
   "source": [
    "pd.get_dummies(df).corr()['loan_status_Y'].sort_values()"
   ]
  },
  {
   "cell_type": "code",
   "execution_count": 92,
   "id": "decd49d4",
   "metadata": {},
   "outputs": [
    {
     "data": {
      "text/plain": [
       "loan_status_Y             -1.000000\n",
       "credit_history            -0.583290\n",
       "property_area_Semiurban   -0.150050\n",
       "education_Graduate        -0.105500\n",
       "married_Yes               -0.095210\n",
       "gender_Male               -0.054369\n",
       "coapplicantincome         -0.044744\n",
       "dependents                -0.033316\n",
       "self_employed_No          -0.024240\n",
       "applicantincome           -0.018094\n",
       "loan_amount_term           0.010101\n",
       "loanamount                 0.015428\n",
       "self_employed_Yes          0.024240\n",
       "gender_Female              0.054369\n",
       "property_area_Urban        0.054976\n",
       "married_No                 0.095210\n",
       "property_area_Rural        0.103006\n",
       "education_Not Graduate     0.105500\n",
       "loan_status_N              1.000000\n",
       "Name: loan_status_N, dtype: float64"
      ]
     },
     "execution_count": 92,
     "metadata": {},
     "output_type": "execute_result"
    }
   ],
   "source": [
    "pd.get_dummies(df).corr()['loan_status_N'].sort_values()"
   ]
  },
  {
   "cell_type": "markdown",
   "id": "ac21894a",
   "metadata": {},
   "source": [
    "### As seen above:\n",
    "#### Correlations between target and encoded values matching previously seen observations:\n",
    "* 'credit_history'(1) showing a significant level of correlation to target - 0.54\n",
    "* followed by a small degree of correlation in 'property_area_Semiurban', 'property_area_Rural'(negative), 'married_Yes' and 'education_Graduate' in decreasing order"
   ]
  },
  {
   "cell_type": "markdown",
   "id": "057e6a62",
   "metadata": {},
   "source": [
    "## c. Splitting data into train/test sets to fit into a logistic regression model"
   ]
  },
  {
   "cell_type": "code",
   "execution_count": 93,
   "id": "1b1eb035",
   "metadata": {},
   "outputs": [],
   "source": [
    "X_train, X_test, y_train, y_test = train_test_split(X, y, test_size=0.3, random_state=42)"
   ]
  },
  {
   "cell_type": "code",
   "execution_count": 94,
   "id": "82ad3e3b",
   "metadata": {},
   "outputs": [
    {
     "data": {
      "text/html": [
       "<style>#sk-container-id-2 {color: black;background-color: white;}#sk-container-id-2 pre{padding: 0;}#sk-container-id-2 div.sk-toggleable {background-color: white;}#sk-container-id-2 label.sk-toggleable__label {cursor: pointer;display: block;width: 100%;margin-bottom: 0;padding: 0.3em;box-sizing: border-box;text-align: center;}#sk-container-id-2 label.sk-toggleable__label-arrow:before {content: \"▸\";float: left;margin-right: 0.25em;color: #696969;}#sk-container-id-2 label.sk-toggleable__label-arrow:hover:before {color: black;}#sk-container-id-2 div.sk-estimator:hover label.sk-toggleable__label-arrow:before {color: black;}#sk-container-id-2 div.sk-toggleable__content {max-height: 0;max-width: 0;overflow: hidden;text-align: left;background-color: #f0f8ff;}#sk-container-id-2 div.sk-toggleable__content pre {margin: 0.2em;color: black;border-radius: 0.25em;background-color: #f0f8ff;}#sk-container-id-2 input.sk-toggleable__control:checked~div.sk-toggleable__content {max-height: 200px;max-width: 100%;overflow: auto;}#sk-container-id-2 input.sk-toggleable__control:checked~label.sk-toggleable__label-arrow:before {content: \"▾\";}#sk-container-id-2 div.sk-estimator input.sk-toggleable__control:checked~label.sk-toggleable__label {background-color: #d4ebff;}#sk-container-id-2 div.sk-label input.sk-toggleable__control:checked~label.sk-toggleable__label {background-color: #d4ebff;}#sk-container-id-2 input.sk-hidden--visually {border: 0;clip: rect(1px 1px 1px 1px);clip: rect(1px, 1px, 1px, 1px);height: 1px;margin: -1px;overflow: hidden;padding: 0;position: absolute;width: 1px;}#sk-container-id-2 div.sk-estimator {font-family: monospace;background-color: #f0f8ff;border: 1px dotted black;border-radius: 0.25em;box-sizing: border-box;margin-bottom: 0.5em;}#sk-container-id-2 div.sk-estimator:hover {background-color: #d4ebff;}#sk-container-id-2 div.sk-parallel-item::after {content: \"\";width: 100%;border-bottom: 1px solid gray;flex-grow: 1;}#sk-container-id-2 div.sk-label:hover label.sk-toggleable__label {background-color: #d4ebff;}#sk-container-id-2 div.sk-serial::before {content: \"\";position: absolute;border-left: 1px solid gray;box-sizing: border-box;top: 0;bottom: 0;left: 50%;z-index: 0;}#sk-container-id-2 div.sk-serial {display: flex;flex-direction: column;align-items: center;background-color: white;padding-right: 0.2em;padding-left: 0.2em;position: relative;}#sk-container-id-2 div.sk-item {position: relative;z-index: 1;}#sk-container-id-2 div.sk-parallel {display: flex;align-items: stretch;justify-content: center;background-color: white;position: relative;}#sk-container-id-2 div.sk-item::before, #sk-container-id-2 div.sk-parallel-item::before {content: \"\";position: absolute;border-left: 1px solid gray;box-sizing: border-box;top: 0;bottom: 0;left: 50%;z-index: -1;}#sk-container-id-2 div.sk-parallel-item {display: flex;flex-direction: column;z-index: 1;position: relative;background-color: white;}#sk-container-id-2 div.sk-parallel-item:first-child::after {align-self: flex-end;width: 50%;}#sk-container-id-2 div.sk-parallel-item:last-child::after {align-self: flex-start;width: 50%;}#sk-container-id-2 div.sk-parallel-item:only-child::after {width: 0;}#sk-container-id-2 div.sk-dashed-wrapped {border: 1px dashed gray;margin: 0 0.4em 0.5em 0.4em;box-sizing: border-box;padding-bottom: 0.4em;background-color: white;}#sk-container-id-2 div.sk-label label {font-family: monospace;font-weight: bold;display: inline-block;line-height: 1.2em;}#sk-container-id-2 div.sk-label-container {text-align: center;}#sk-container-id-2 div.sk-container {/* jupyter's `normalize.less` sets `[hidden] { display: none; }` but bootstrap.min.css set `[hidden] { display: none !important; }` so we also need the `!important` here to be able to override the default hidden behavior on the sphinx rendered scikit-learn.org. See: https://github.com/scikit-learn/scikit-learn/issues/21755 */display: inline-block !important;position: relative;}#sk-container-id-2 div.sk-text-repr-fallback {display: none;}</style><div id=\"sk-container-id-2\" class=\"sk-top-container\"><div class=\"sk-text-repr-fallback\"><pre>LogisticRegression(max_iter=1000, random_state=42)</pre><b>In a Jupyter environment, please rerun this cell to show the HTML representation or trust the notebook. <br />On GitHub, the HTML representation is unable to render, please try loading this page with nbviewer.org.</b></div><div class=\"sk-container\" hidden><div class=\"sk-item\"><div class=\"sk-estimator sk-toggleable\"><input class=\"sk-toggleable__control sk-hidden--visually\" id=\"sk-estimator-id-2\" type=\"checkbox\" checked><label for=\"sk-estimator-id-2\" class=\"sk-toggleable__label sk-toggleable__label-arrow\">LogisticRegression</label><div class=\"sk-toggleable__content\"><pre>LogisticRegression(max_iter=1000, random_state=42)</pre></div></div></div></div></div>"
      ],
      "text/plain": [
       "LogisticRegression(max_iter=1000, random_state=42)"
      ]
     },
     "execution_count": 94,
     "metadata": {},
     "output_type": "execute_result"
    }
   ],
   "source": [
    "classification = LogisticRegression(random_state=42, max_iter=1000)\n",
    "\n",
    "classification.fit(X_train, y_train)"
   ]
  },
  {
   "cell_type": "markdown",
   "id": "dcc029ff",
   "metadata": {},
   "source": [
    "## d. Applying LogisticRegression model\n",
    " * obtaining accuracy score and predictions, testing data for imbalance"
   ]
  },
  {
   "cell_type": "code",
   "execution_count": 95,
   "id": "9460e0c7",
   "metadata": {},
   "outputs": [
    {
     "data": {
      "text/plain": [
       "Y    120\n",
       "N     43\n",
       "Name: loan_status, dtype: int64"
      ]
     },
     "execution_count": 95,
     "metadata": {},
     "output_type": "execute_result"
    }
   ],
   "source": [
    "y_test.value_counts()"
   ]
  },
  {
   "cell_type": "code",
   "execution_count": 96,
   "id": "51441af2",
   "metadata": {},
   "outputs": [
    {
     "data": {
      "image/png": "[encoded data removed]",
      "text/plain": [
       "<Figure size 640x480 with 2 Axes>"
      ]
     },
     "metadata": {},
     "output_type": "display_data"
    },
    {
     "data": {
      "text/plain": [
       "0.8773006134969326"
      ]
     },
     "execution_count": 96,
     "metadata": {},
     "output_type": "execute_result"
    }
   ],
   "source": [
    "predictions = classification.predict(X_test)\n",
    "\n",
    "cm = confusion_matrix(y_test, predictions, labels=classification.classes_, normalize='all')\n",
    "color = 'white'\n",
    "disp = ConfusionMatrixDisplay(confusion_matrix=cm, display_labels=classification.classes_)\n",
    "disp.plot()\n",
    "plt.show()\n",
    "\n",
    "classification.score(X_test, y_test)"
   ]
  },
  {
   "cell_type": "markdown",
   "id": "9f7b51e6",
   "metadata": {},
   "source": [
    "#### first results\n",
    "* 0.12 / 0.23\n",
    "* 0.01 / 0.64\n",
    "#### dropping nans in credit history\n",
    "* 0.18 / 0.14\n",
    "* 0.00 / 0.68\n",
    "#### dropping outliers in continuous columns\n",
    "* 0.14 / 0.12\n",
    "* 0.00 / 0.74"
   ]
  },
  {
   "cell_type": "markdown",
   "id": "da1435b0",
   "metadata": {},
   "source": [
    "# IV. Sampling, scaling and Testing different models"
   ]
  },
  {
   "cell_type": "markdown",
   "id": "f213f152",
   "metadata": {},
   "source": [
    "## a. Scaling\n",
    "* StandardScaler / MinMaxScaler"
   ]
  },
  {
   "cell_type": "code",
   "execution_count": null,
   "id": "aa842a18",
   "metadata": {},
   "outputs": [],
   "source": [
    "scaler = StandardScaler()\n",
    "#scaler = MinMaxScaler()\n",
    "X_train_scaled = scaler.fit_transform(X_train)"
   ]
  },
  {
   "cell_type": "markdown",
   "id": "6152c16b",
   "metadata": {},
   "source": [
    "## b. Sampling\n",
    "* RandomOverSampler / SMOTE"
   ]
  },
  {
   "cell_type": "code",
   "execution_count": 97,
   "id": "96ade230",
   "metadata": {},
   "outputs": [],
   "source": [
    "#sampler = RandomOverSampler(random_state=42)\n",
    "sampler = SMOTE(random_state=42)\n",
    "#X_resampled, y_resampled = sampler.fit_resample(X_train_scaled, y_train)\n",
    "X_resampled, y_resampled = sampler.fit_resample(X_train, y_train)"
   ]
  },
  {
   "cell_type": "markdown",
   "id": "e75670f9",
   "metadata": {},
   "source": [
    "## c. Reappyling LogisticRegression model"
   ]
  },
  {
   "cell_type": "code",
   "execution_count": 98,
   "id": "a359e0d2",
   "metadata": {},
   "outputs": [
    {
     "data": {
      "text/html": [
       "<style>#sk-container-id-3 {color: black;background-color: white;}#sk-container-id-3 pre{padding: 0;}#sk-container-id-3 div.sk-toggleable {background-color: white;}#sk-container-id-3 label.sk-toggleable__label {cursor: pointer;display: block;width: 100%;margin-bottom: 0;padding: 0.3em;box-sizing: border-box;text-align: center;}#sk-container-id-3 label.sk-toggleable__label-arrow:before {content: \"▸\";float: left;margin-right: 0.25em;color: #696969;}#sk-container-id-3 label.sk-toggleable__label-arrow:hover:before {color: black;}#sk-container-id-3 div.sk-estimator:hover label.sk-toggleable__label-arrow:before {color: black;}#sk-container-id-3 div.sk-toggleable__content {max-height: 0;max-width: 0;overflow: hidden;text-align: left;background-color: #f0f8ff;}#sk-container-id-3 div.sk-toggleable__content pre {margin: 0.2em;color: black;border-radius: 0.25em;background-color: #f0f8ff;}#sk-container-id-3 input.sk-toggleable__control:checked~div.sk-toggleable__content {max-height: 200px;max-width: 100%;overflow: auto;}#sk-container-id-3 input.sk-toggleable__control:checked~label.sk-toggleable__label-arrow:before {content: \"▾\";}#sk-container-id-3 div.sk-estimator input.sk-toggleable__control:checked~label.sk-toggleable__label {background-color: #d4ebff;}#sk-container-id-3 div.sk-label input.sk-toggleable__control:checked~label.sk-toggleable__label {background-color: #d4ebff;}#sk-container-id-3 input.sk-hidden--visually {border: 0;clip: rect(1px 1px 1px 1px);clip: rect(1px, 1px, 1px, 1px);height: 1px;margin: -1px;overflow: hidden;padding: 0;position: absolute;width: 1px;}#sk-container-id-3 div.sk-estimator {font-family: monospace;background-color: #f0f8ff;border: 1px dotted black;border-radius: 0.25em;box-sizing: border-box;margin-bottom: 0.5em;}#sk-container-id-3 div.sk-estimator:hover {background-color: #d4ebff;}#sk-container-id-3 div.sk-parallel-item::after {content: \"\";width: 100%;border-bottom: 1px solid gray;flex-grow: 1;}#sk-container-id-3 div.sk-label:hover label.sk-toggleable__label {background-color: #d4ebff;}#sk-container-id-3 div.sk-serial::before {content: \"\";position: absolute;border-left: 1px solid gray;box-sizing: border-box;top: 0;bottom: 0;left: 50%;z-index: 0;}#sk-container-id-3 div.sk-serial {display: flex;flex-direction: column;align-items: center;background-color: white;padding-right: 0.2em;padding-left: 0.2em;position: relative;}#sk-container-id-3 div.sk-item {position: relative;z-index: 1;}#sk-container-id-3 div.sk-parallel {display: flex;align-items: stretch;justify-content: center;background-color: white;position: relative;}#sk-container-id-3 div.sk-item::before, #sk-container-id-3 div.sk-parallel-item::before {content: \"\";position: absolute;border-left: 1px solid gray;box-sizing: border-box;top: 0;bottom: 0;left: 50%;z-index: -1;}#sk-container-id-3 div.sk-parallel-item {display: flex;flex-direction: column;z-index: 1;position: relative;background-color: white;}#sk-container-id-3 div.sk-parallel-item:first-child::after {align-self: flex-end;width: 50%;}#sk-container-id-3 div.sk-parallel-item:last-child::after {align-self: flex-start;width: 50%;}#sk-container-id-3 div.sk-parallel-item:only-child::after {width: 0;}#sk-container-id-3 div.sk-dashed-wrapped {border: 1px dashed gray;margin: 0 0.4em 0.5em 0.4em;box-sizing: border-box;padding-bottom: 0.4em;background-color: white;}#sk-container-id-3 div.sk-label label {font-family: monospace;font-weight: bold;display: inline-block;line-height: 1.2em;}#sk-container-id-3 div.sk-label-container {text-align: center;}#sk-container-id-3 div.sk-container {/* jupyter's `normalize.less` sets `[hidden] { display: none; }` but bootstrap.min.css set `[hidden] { display: none !important; }` so we also need the `!important` here to be able to override the default hidden behavior on the sphinx rendered scikit-learn.org. See: https://github.com/scikit-learn/scikit-learn/issues/21755 */display: inline-block !important;position: relative;}#sk-container-id-3 div.sk-text-repr-fallback {display: none;}</style><div id=\"sk-container-id-3\" class=\"sk-top-container\"><div class=\"sk-text-repr-fallback\"><pre>LogisticRegression(max_iter=1000, random_state=42)</pre><b>In a Jupyter environment, please rerun this cell to show the HTML representation or trust the notebook. <br />On GitHub, the HTML representation is unable to render, please try loading this page with nbviewer.org.</b></div><div class=\"sk-container\" hidden><div class=\"sk-item\"><div class=\"sk-estimator sk-toggleable\"><input class=\"sk-toggleable__control sk-hidden--visually\" id=\"sk-estimator-id-3\" type=\"checkbox\" checked><label for=\"sk-estimator-id-3\" class=\"sk-toggleable__label sk-toggleable__label-arrow\">LogisticRegression</label><div class=\"sk-toggleable__content\"><pre>LogisticRegression(max_iter=1000, random_state=42)</pre></div></div></div></div></div>"
      ],
      "text/plain": [
       "LogisticRegression(max_iter=1000, random_state=42)"
      ]
     },
     "execution_count": 98,
     "metadata": {},
     "output_type": "execute_result"
    }
   ],
   "source": [
    "classification = LogisticRegression(random_state=42, max_iter=1000)\n",
    "#classification.fit(X_train_scaled, y_train)\n",
    "classification.fit(X_resampled, y_resampled)"
   ]
  },
  {
   "cell_type": "code",
   "execution_count": 99,
   "id": "9dfe7f9b",
   "metadata": {},
   "outputs": [
    {
     "data": {
      "image/png": "[encoded data removed]",
      "text/plain": [
       "<Figure size 640x480 with 2 Axes>"
      ]
     },
     "metadata": {},
     "output_type": "display_data"
    }
   ],
   "source": [
    "predictions = classification.predict(X_test)\n",
    "#predictions = classification.predict(X_test.values)\n",
    "\n",
    "cm = confusion_matrix(y_test, predictions, labels=classification.classes_, normalize='all')\n",
    "color = 'white'\n",
    "disp = ConfusionMatrixDisplay(confusion_matrix=cm, display_labels=classification.classes_)\n",
    "disp.plot()\n",
    "plt.show()"
   ]
  },
  {
   "cell_type": "markdown",
   "id": "17c2da2b",
   "metadata": {},
   "source": [
    "#### StandardScaler:\n",
    "* barely any change in results, 0.74 true Y\n",
    "#### MinMaxScaler:\n",
    "* Worse results, data not fit for normalization\n",
    "    * 0.14 / 0.12\n",
    "    * 0.34 / 0.39\n",
    "#### StandardScaler + Sampling (RandomOverSampler/SMOTE):\n",
    "* barely any change in results, 0.74 true Y\n",
    "#### SMOTE (no scaling):\n",
    "* Worse results\n",
    "    * 0.15 / 0.12\n",
    "    * 0.05 / 0.68"
   ]
  },
  {
   "cell_type": "markdown",
   "id": "584ed3c2",
   "metadata": {},
   "source": [
    "## d. BalancedRandomForest"
   ]
  },
  {
   "cell_type": "code",
   "execution_count": 100,
   "id": "37f5ef7e",
   "metadata": {},
   "outputs": [],
   "source": [
    "BRFC = BalancedRandomForestClassifier(n_estimators=150, random_state=2)"
   ]
  },
  {
   "cell_type": "code",
   "execution_count": 101,
   "id": "ba273acd",
   "metadata": {},
   "outputs": [],
   "source": [
    "cv = RepeatedStratifiedKFold(n_splits=10, n_repeats=3, random_state=1)\n",
    "scoring = ('f1', 'recall', 'precision')"
   ]
  },
  {
   "cell_type": "code",
   "execution_count": 102,
   "id": "b087c885",
   "metadata": {},
   "outputs": [
    {
     "name": "stdout",
     "output_type": "stream",
     "text": [
      "Mean f1: nan\n",
      "Mean recall: nan\n",
      "Mean precision: nan\n"
     ]
    }
   ],
   "source": [
    "warnings.filterwarnings('ignore')\n",
    "\n",
    "scores = cross_validate(BRFC, X, y, scoring=scoring, cv=cv)\n",
    "print('Mean f1: %.3f' % mean(scores['test_f1']))\n",
    "print('Mean recall: %.3f' % mean(scores['test_recall']))\n",
    "print('Mean precision: %.3f' % mean(scores['test_precision']))"
   ]
  },
  {
   "cell_type": "code",
   "execution_count": 103,
   "id": "df32c2fd",
   "metadata": {},
   "outputs": [
    {
     "data": {
      "image/png": "[encoded data removed]",
      "text/plain": [
       "<Figure size 640x480 with 2 Axes>"
      ]
     },
     "metadata": {},
     "output_type": "display_data"
    }
   ],
   "source": [
    "BRFC.fit(X_train, y_train)\n",
    "predictions = BRFC.predict(X_test)\n",
    "\n",
    "cm = confusion_matrix(y_test, predictions, labels=classification.classes_, normalize='all')\n",
    "color = 'white'\n",
    "disp = ConfusionMatrixDisplay(confusion_matrix=cm, display_labels=classification.classes_)\n",
    "disp.plot()\n",
    "plt.show()\n",
    "\n",
    "warnings.filterwarnings('default')"
   ]
  },
  {
   "cell_type": "markdown",
   "id": "2d81af6e",
   "metadata": {},
   "source": [
    "#### Worse results:\n",
    "* 0.16 / 0.10\n",
    "* 0.17 / 0.57"
   ]
  },
  {
   "cell_type": "markdown",
   "id": "9ffebf64",
   "metadata": {},
   "source": [
    "# V. Conclusion"
   ]
  },
  {
   "cell_type": "markdown",
   "id": "85553588",
   "metadata": {},
   "source": [
    "### a. The dataset is small containing only 614 rows and 13 columns but fairly clean.\n",
    "#### Having only a small percentage of null values, of which most were filled in using the respective columns median or mode, in the spirit of keeping as much as possible of this small amount of data.\n",
    "* **The exception being null values in the column credit history:**\n",
    "    * testing showed improved results for the model when dropping rows where null values in credit history were present versus applying the column's mode (binary values of (0,1))\n",
    "        * **LogisticRegression: first results (filled Nans with Mode)**\n",
    "            * 0.12 / 0.23\n",
    "            * 0.01 / 0.64\n",
    "        * **dropping nans in credit history**\n",
    "            * 0.18 / 0.14\n",
    "            * 0.00 / 0.68"
   ]
  },
  {
   "cell_type": "markdown",
   "id": "0f2493cf",
   "metadata": {},
   "source": [
    "### b. The dataset contains well distributed features.\n",
    "#### By performing exploration and visualization it is possible to observe that a lot of the numerical data points follow close to a normal distribuition:\n",
    "* **the non-discrete columns in the dataset regard monetary value**, be it income or loan amount, and as such it is common that they **present a positive skew on a normal distribution**, as values naturally have a floor of zero and no ceiling.\n",
    "    * **the column 'coapplicantincome' in particular presents a large spike of zero values**, which makes sense when interpreting the data: most applications are submitted by a single applicant, and their income values are represented in 'applicantincome'\n",
    "    * as such, **it is possible to observe a significant amount of outliers in these columns**, again, towards the right/positive side. A first pass of the model was run including these outliers untouched and later tested agaisnt the dataset stripped of outliers (by dropping rows), and results showed improval using this technique.\n",
    "        * **LogisticRegression: dropping nans in credit history (still containing outliers)**\n",
    "            * 0.18 / 0.14\n",
    "            * 0.00 / 0.68\n",
    "        * **dropping outliers in continuous columns**\n",
    "            * 0.14 / 0.12\n",
    "            * 0.00 / 0.74\n",
    "* 'dependents' and 'loan_amount_term' while containing **discrete values, and a small number of values in the case of 'dependents', still allow us to observe a skewed normal distribution**\n",
    "    * **'loan_amount_term' shows the loan term is centered around the value of 360 months**, with an irregular spike at 180 months\n",
    "        * **Presence of outliers to the left/negative side only**, which makes sense considering the highest value in the term column is 480 months/40 years, and there will not be repayment terms longer than that.\n",
    "#### Visualizing categorical features allows some further insights about the applicants:\n",
    "* **By a large ratio**, most applicants are **male, have a credit history, are graduates and not self-employed**\n",
    "* 2 for every 1 applicants are married\n",
    "* **Applicants are mostly equaly distributed by property area**\n",
    "\n",
    "#### Performing the same analysis on our target variable previews an imbalance in the dataset\n",
    "* target - 2 for every 1 applicants get approved for the loan"
   ]
  },
  {
   "cell_type": "markdown",
   "id": "aa435f9b",
   "metadata": {},
   "source": [
    "### c. No features show any high level of correlation amongst themselves.\n",
    "#### This is beneficial in order to fit into the model, as most models do not take in very highly correlated features well.\n",
    "* **'applicantincome'/'loanamount' are correlated by a value of 0.56** which is not considered too high for modeling applications but does offer some insight:\n",
    "    * **It shows that the amount loaned to the applicant somewhat takes into account their level of income**.\n",
    "        * This is further proven by a smaller correlation score of 0.16 between 'coapplicantincome'/'loanamount'. Considering how most applications contain no coapplicants, it is understandable the low score and still useful for correlating the **total income submitted in an application and the amount loaned by the company**."
   ]
  },
  {
   "cell_type": "markdown",
   "id": "e6ad6af1",
   "metadata": {},
   "source": [
    "### d. Relationships between features and the target.\n",
    "#### Analyzing the distribuition of the numerical features in the dataset by the target values, it can be observed that most are evenly split offering no correlation with the target values\n",
    "* exception being the feature **credit_history which in fact does offer a high degree of correlation**\n",
    "    * **Large tendency towards 'Y'**, indicating there is some correlation between the applicant having a credit history and getting the approval on the loan.\n",
    "#### Through the employment of a contigency table, some correlation was found between the categorical features and the target\n",
    "* **Correlation between the area the property is in and the chance for loan approval**\n",
    "    * **Semiurban properties have a higher loan approval rate of 76.8%** compared to urban and rural properties at 65.8% and 61% respectively\n",
    "* Small variance of **~10% in correlation between the applicant's marital status** and eligibility\n",
    "    * Married applicants at a higher rate of approval vs. not married\n",
    "* Small variance of **~10% in correlation between the applicant's level of education** and eligibility\n",
    "    * Graduate applicants at a higher rate of approval vs. non-graduates\n",
    "* **Even or close to even distribution in the applicant's gender / type of employment** and eligibility"
   ]
  },
  {
   "cell_type": "markdown",
   "id": "68c13f77",
   "metadata": {},
   "source": [
    "### e. Data imbalance and processing tecniques\n",
    "#### The dataset is imbalanced towards the value Y in target feature: most applicants get approval for the loan.\n",
    "#### Attempts to balance the dataset through resampling were considered and tested:\n",
    "* **Due to the dataset being small in size, undersampling was not considered for testing** as it would reduce the size of the train and test sets too much.\n",
    "* **Oversampling tecniques were applied**, both RandomOverSampler and SMOTE were tested:\n",
    "    * when applied **over a standardized dataset both wielded pratically the same results** as the original dataset.\n",
    "    * when applied directly over the original data, SMOTE wielded worse results\n",
    "#### Scaling tecniques were tested with the model:\n",
    "* Standardization through StandardScaler wielded no significant improvement to the model\n",
    "    * Possibly showing the original data is already standardized\n",
    "* Normalization through MinMaxScaler provided significantly worse results\n",
    "    * Indicating the type of data in the dataset is not compatible with normalization\n",
    "\n",
    "#### Results shown below of running the dataset through a few passes on LogisticRegression model:\n",
    "* **original data**:\n",
    "    * 0.14 / 0.12\n",
    "    * 0.00 / 0.74\n",
    "* **StandardScaler**: barely any change in results, 0.74 true Y\n",
    "* **MinMaxScaler**: Worse results, data not fit for normalization\n",
    "    * 0.14 / 0.12\n",
    "    * 0.34 / 0.39\n",
    "* **StandardScaler + Sampling** (RandomOverSampler/SMOTE): barely any change in results, 0.74 true Y\n",
    "* **SMOTE (no scaling)**: Worse results\n",
    "    * 0.15 / 0.12\n",
    "    * 0.05 / 0.68\n",
    "\n",
    "\n",
    "\n",
    "\n",
    "\n",
    "\n",
    "\n",
    "\n"
   ]
  },
  {
   "cell_type": "markdown",
   "id": "67585eac",
   "metadata": {},
   "source": [
    "### f. Implementing an alternative classification model and comparing results\n",
    "#### Testing the dataset thorugh a BalancedRandomForest model\n",
    "* Worse results: This model improved accuracy for true Ns but to a level where it is still irrevelant, and it also reduced significantly the accuracy of true Ys.\n",
    "    * 0.16 / 0.10\n",
    "    * 0.17 / 0.57\n",
    "#### LogisticRegression is the preferred model for this problem.\n",
    "* Best results:\n",
    "    * 0.14 / 0.12\n",
    "    * 0.00 / 0.74\n",
    "    * classification score of 0.87\n",
    "* **Overall the application of this ML model fulfills the proposed objective of predicting the eligibility of an applicant for a loan**"
   ]
  }
 ],
 "metadata": {
  "kernelspec": {
   "display_name": "Python 3 (ipykernel)",
   "language": "python",
   "name": "python3"
  },
  "language_info": {
   "codemirror_mode": {
    "name": "ipython",
    "version": 3
   },
   "file_extension": ".py",
   "mimetype": "text/x-python",
   "name": "python",
   "nbconvert_exporter": "python",
   "pygments_lexer": "ipython3",
   "version": "3.10.9"
  }
 },
 "nbformat": 4,
 "nbformat_minor": 5
}
